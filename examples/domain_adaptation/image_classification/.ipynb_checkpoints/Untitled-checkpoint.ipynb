{
 "cells": [
  {
   "cell_type": "code",
   "execution_count": 51,
   "metadata": {},
   "outputs": [],
   "source": [
    "import random\n",
    "import time\n",
    "import warnings\n",
    "import argparse\n",
    "import shutil\n",
    "import os.path as osp\n",
    "\n",
    "import torch\n",
    "import torch.nn as nn\n",
    "import torch.backends.cudnn as cudnn\n",
    "from torch.optim import SGD\n",
    "from torch.optim.lr_scheduler import LambdaLR\n",
    "from torch.utils.data import DataLoader\n",
    "import torch.nn.functional as F\n",
    "import cv2\n",
    "import numpy as np\n",
    "import utils\n",
    "from torch.utils.data import Dataset, DataLoader\n",
    "from tllib.alignment.dan import MultipleKernelMaximumMeanDiscrepancy, ImageClassifier\n",
    "from tllib.modules.kernels import GaussianKernel\n",
    "from tllib.utils.data import ForeverDataIterator\n",
    "from tllib.utils.metric import accuracy\n",
    "from tllib.utils.meter import AverageMeter, ProgressMeter\n",
    "from tllib.utils.logger import CompleteLogger\n",
    "from tllib.utils.analysis import collect_feature, tsne, a_distance\n",
    "import pandas as pd"
   ]
  },
  {
   "cell_type": "code",
   "execution_count": 52,
   "metadata": {},
   "outputs": [],
   "source": [
    "def split_data(df, frac=0.2):\n",
    "    seletected = df['flow_id'].drop_duplicates().sample(frac=frac)\n",
    "    val = df[df['flow_id'].isin(seletected)]\n",
    "    train = df[~df['flow_id'].isin(seletected)]\n",
    "    return train, val"
   ]
  },
  {
   "cell_type": "code",
   "execution_count": 53,
   "metadata": {},
   "outputs": [],
   "source": [
    "def resize_image(image, target_size=(224,224)):\n",
    "    return cv2.resize(image, target_size, interpolation = cv2.INTER_LINEAR)"
   ]
  },
  {
   "cell_type": "code",
   "execution_count": 54,
   "metadata": {},
   "outputs": [],
   "source": [
    "def most_frequent(List):\n",
    "    return max(set(List), key=List.count)"
   ]
  },
  {
   "cell_type": "code",
   "execution_count": 55,
   "metadata": {},
   "outputs": [],
   "source": [
    "class MyDataset(Dataset):\n",
    "    def __init__(self, data, labels):\n",
    "        self.data = data\n",
    "        self.labels = labels\n",
    "        \n",
    "    def __len__(self):\n",
    "        return len(self.data)\n",
    "    \n",
    "    def __getitem__(self, idx):\n",
    "        return self.data[idx], self.labels[idx]"
   ]
  },
  {
   "cell_type": "code",
   "execution_count": 56,
   "metadata": {},
   "outputs": [],
   "source": [
    "def data_processing(raw_data):\n",
    "    #Get flow label\n",
    "    result = raw_data.groupby('flow_id')['Label'].apply(list).to_dict()\n",
    "    flow_label = []\n",
    "    for flow in result:\n",
    "        flow_label.append(most_frequent(result[flow]))\n",
    "    flow_label = np.array(flow_label)\n",
    "    true_data = raw_data.drop('flow_id',axis=1)\n",
    "\n",
    "    datas = true_data.drop('Label',axis=1).to_numpy()/255\n",
    "    datas = datas.reshape(-1,20,256).astype('float32')\n",
    "    # Resize each image in the dataset\n",
    "    datas = np.array([resize_image(img) for img in datas])\n",
    "    rgb_datas = np.repeat(datas[:, :,np.newaxis], 3, axis=2)\n",
    "    print(type(rgb_datas))\n",
    "    final_dataset = MyDataset(rgb_datas, flow_label)\n",
    "    return final_dataset"
   ]
  },
  {
   "cell_type": "code",
   "execution_count": 57,
   "metadata": {},
   "outputs": [],
   "source": [
    "Train_data = pd.read_feather('/media/bkcs/ea03a187-9ad2-44ad-9ec0-6246736e0fcd/gquic/Train/GQUIC_data_256.feather')\n",
    "Test_data = pd.read_feather('/media/bkcs/ea03a187-9ad2-44ad-9ec0-6246736e0fcd/gquic/Test/GQUIC_test_256.feather')"
   ]
  },
  {
   "cell_type": "code",
   "execution_count": 58,
   "metadata": {},
   "outputs": [],
   "source": [
    "train_source = Train_data[Train_data.Label != 3]\n",
    "train_target, val_raw = split_data(Train_data[Train_data.Label == 3])\n",
    "test_raw = Test_data[Test_data.Label == 3]"
   ]
  },
  {
   "cell_type": "code",
   "execution_count": 59,
   "metadata": {
    "scrolled": true
   },
   "outputs": [
    {
     "name": "stdout",
     "output_type": "stream",
     "text": [
      "<class 'numpy.ndarray'>\n",
      "<class 'numpy.ndarray'>\n",
      "<class 'numpy.ndarray'>\n",
      "<class 'numpy.ndarray'>\n"
     ]
    }
   ],
   "source": [
    "train_source_dataset = data_processing(train_source)\n",
    "\n",
    "train_target_dataset = data_processing(train_target)\n",
    "\n",
    "val_dataset = data_processing(val_raw)\n",
    "\n",
    "test_dataset = data_processing(test_raw)"
   ]
  },
  {
   "cell_type": "code",
   "execution_count": 60,
   "metadata": {},
   "outputs": [],
   "source": [
    "train_source_loader = DataLoader(train_source_dataset, batch_size=32,\n",
    "                                 shuffle=True, drop_last=True)\n",
    "train_target_loader = DataLoader(train_target_dataset, batch_size=32,\n",
    "                                 shuffle=True, drop_last=True)\n",
    "val_loader = DataLoader(val_dataset, batch_size=32, shuffle=False)\n",
    "test_loader = DataLoader(test_dataset, batch_size=32, shuffle=False)\n",
    "\n",
    "train_source_iter = ForeverDataIterator(train_source_loader)\n",
    "train_target_iter = ForeverDataIterator(train_target_loader)\n"
   ]
  },
  {
   "cell_type": "code",
   "execution_count": 61,
   "metadata": {},
   "outputs": [
    {
     "data": {
      "text/plain": [
       "2"
      ]
     },
     "execution_count": 61,
     "metadata": {},
     "output_type": "execute_result"
    }
   ],
   "source": [
    "len(next(train_source_iter))"
   ]
  },
  {
   "cell_type": "code",
   "execution_count": 62,
   "metadata": {},
   "outputs": [
    {
     "data": {
      "text/plain": [
       "[tensor([[[[0.4571, 0.6535, 0.7367,  ..., 0.7709, 0.5476, 0.2050],\n",
       "           [0.4571, 0.6535, 0.7367,  ..., 0.7709, 0.5476, 0.2050],\n",
       "           [0.4571, 0.6535, 0.7367,  ..., 0.7709, 0.5476, 0.2050]],\n",
       " \n",
       "          [[0.4571, 0.6535, 0.7367,  ..., 0.7709, 0.5476, 0.2050],\n",
       "           [0.4571, 0.6535, 0.7367,  ..., 0.7709, 0.5476, 0.2050],\n",
       "           [0.4571, 0.6535, 0.7367,  ..., 0.7709, 0.5476, 0.2050]],\n",
       " \n",
       "          [[0.4571, 0.6535, 0.7367,  ..., 0.7709, 0.5476, 0.2050],\n",
       "           [0.4571, 0.6535, 0.7367,  ..., 0.7709, 0.5476, 0.2050],\n",
       "           [0.4571, 0.6535, 0.7367,  ..., 0.7709, 0.5476, 0.2050]],\n",
       " \n",
       "          ...,\n",
       " \n",
       "          [[0.5843, 0.6930, 0.5706,  ..., 0.3964, 0.4389, 0.0639],\n",
       "           [0.5843, 0.6930, 0.5706,  ..., 0.3964, 0.4389, 0.0639],\n",
       "           [0.5843, 0.6930, 0.5706,  ..., 0.3964, 0.4389, 0.0639]],\n",
       " \n",
       "          [[0.5843, 0.6930, 0.5706,  ..., 0.3964, 0.4389, 0.0639],\n",
       "           [0.5843, 0.6930, 0.5706,  ..., 0.3964, 0.4389, 0.0639],\n",
       "           [0.5843, 0.6930, 0.5706,  ..., 0.3964, 0.4389, 0.0639]],\n",
       " \n",
       "          [[0.5843, 0.6930, 0.5706,  ..., 0.3964, 0.4389, 0.0639],\n",
       "           [0.5843, 0.6930, 0.5706,  ..., 0.3964, 0.4389, 0.0639],\n",
       "           [0.5843, 0.6930, 0.5706,  ..., 0.3964, 0.4389, 0.0639]]],\n",
       " \n",
       " \n",
       "         [[[0.4028, 0.7902, 0.4585,  ..., 0.4706, 0.7899, 0.4350],\n",
       "           [0.4028, 0.7902, 0.4585,  ..., 0.4706, 0.7899, 0.4350],\n",
       "           [0.4028, 0.7902, 0.4585,  ..., 0.4706, 0.7899, 0.4350]],\n",
       " \n",
       "          [[0.4028, 0.7902, 0.4585,  ..., 0.4706, 0.7899, 0.4350],\n",
       "           [0.4028, 0.7902, 0.4585,  ..., 0.4706, 0.7899, 0.4350],\n",
       "           [0.4028, 0.7902, 0.4585,  ..., 0.4706, 0.7899, 0.4350]],\n",
       " \n",
       "          [[0.4028, 0.7902, 0.4585,  ..., 0.4706, 0.7899, 0.4350],\n",
       "           [0.4028, 0.7902, 0.4585,  ..., 0.4706, 0.7899, 0.4350],\n",
       "           [0.4028, 0.7902, 0.4585,  ..., 0.4706, 0.7899, 0.4350]],\n",
       " \n",
       "          ...,\n",
       " \n",
       "          [[0.7882, 0.1804, 0.5812,  ..., 0.0000, 0.0000, 0.0000],\n",
       "           [0.7882, 0.1804, 0.5812,  ..., 0.0000, 0.0000, 0.0000],\n",
       "           [0.7882, 0.1804, 0.5812,  ..., 0.0000, 0.0000, 0.0000]],\n",
       " \n",
       "          [[0.7882, 0.1804, 0.5812,  ..., 0.0000, 0.0000, 0.0000],\n",
       "           [0.7882, 0.1804, 0.5812,  ..., 0.0000, 0.0000, 0.0000],\n",
       "           [0.7882, 0.1804, 0.5812,  ..., 0.0000, 0.0000, 0.0000]],\n",
       " \n",
       "          [[0.7882, 0.1804, 0.5812,  ..., 0.0000, 0.0000, 0.0000],\n",
       "           [0.7882, 0.1804, 0.5812,  ..., 0.0000, 0.0000, 0.0000],\n",
       "           [0.7882, 0.1804, 0.5812,  ..., 0.0000, 0.0000, 0.0000]]],\n",
       " \n",
       " \n",
       "         [[[0.3294, 0.8874, 0.5403,  ..., 0.7636, 0.7706, 0.1555],\n",
       "           [0.3294, 0.8874, 0.5403,  ..., 0.7636, 0.7706, 0.1555],\n",
       "           [0.3294, 0.8874, 0.5403,  ..., 0.7636, 0.7706, 0.1555]],\n",
       " \n",
       "          [[0.3294, 0.8874, 0.5403,  ..., 0.7636, 0.7706, 0.1555],\n",
       "           [0.3294, 0.8874, 0.5403,  ..., 0.7636, 0.7706, 0.1555],\n",
       "           [0.3294, 0.8874, 0.5403,  ..., 0.7636, 0.7706, 0.1555]],\n",
       " \n",
       "          [[0.3294, 0.8874, 0.5403,  ..., 0.7636, 0.7706, 0.1555],\n",
       "           [0.3294, 0.8874, 0.5403,  ..., 0.7636, 0.7706, 0.1555],\n",
       "           [0.3294, 0.8874, 0.5403,  ..., 0.7636, 0.7706, 0.1555]],\n",
       " \n",
       "          ...,\n",
       " \n",
       "          [[0.2952, 0.5283, 0.2905,  ..., 0.9745, 0.2375, 0.2759],\n",
       "           [0.2952, 0.5283, 0.2905,  ..., 0.9745, 0.2375, 0.2759],\n",
       "           [0.2952, 0.5283, 0.2905,  ..., 0.9745, 0.2375, 0.2759]],\n",
       " \n",
       "          [[0.2952, 0.5283, 0.2905,  ..., 0.9745, 0.2375, 0.2759],\n",
       "           [0.2952, 0.5283, 0.2905,  ..., 0.9745, 0.2375, 0.2759],\n",
       "           [0.2952, 0.5283, 0.2905,  ..., 0.9745, 0.2375, 0.2759]],\n",
       " \n",
       "          [[0.2952, 0.5283, 0.2905,  ..., 0.9745, 0.2375, 0.2759],\n",
       "           [0.2952, 0.5283, 0.2905,  ..., 0.9745, 0.2375, 0.2759],\n",
       "           [0.2952, 0.5283, 0.2905,  ..., 0.9745, 0.2375, 0.2759]]],\n",
       " \n",
       " \n",
       "         ...,\n",
       " \n",
       " \n",
       "         [[[0.0244, 0.0538, 0.1902,  ..., 0.4003, 0.0922, 0.6776],\n",
       "           [0.0244, 0.0538, 0.1902,  ..., 0.4003, 0.0922, 0.6776],\n",
       "           [0.0244, 0.0538, 0.1902,  ..., 0.4003, 0.0922, 0.6776]],\n",
       " \n",
       "          [[0.0244, 0.0538, 0.1902,  ..., 0.4003, 0.0922, 0.6776],\n",
       "           [0.0244, 0.0538, 0.1902,  ..., 0.4003, 0.0922, 0.6776],\n",
       "           [0.0244, 0.0538, 0.1902,  ..., 0.4003, 0.0922, 0.6776]],\n",
       " \n",
       "          [[0.0244, 0.0538, 0.1902,  ..., 0.4003, 0.0922, 0.6776],\n",
       "           [0.0244, 0.0538, 0.1902,  ..., 0.4003, 0.0922, 0.6776],\n",
       "           [0.0244, 0.0538, 0.1902,  ..., 0.4003, 0.0922, 0.6776]],\n",
       " \n",
       "          ...,\n",
       " \n",
       "          [[0.6087, 0.6840, 0.4854,  ..., 0.0000, 0.0000, 0.0000],\n",
       "           [0.6087, 0.6840, 0.4854,  ..., 0.0000, 0.0000, 0.0000],\n",
       "           [0.6087, 0.6840, 0.4854,  ..., 0.0000, 0.0000, 0.0000]],\n",
       " \n",
       "          [[0.6087, 0.6840, 0.4854,  ..., 0.0000, 0.0000, 0.0000],\n",
       "           [0.6087, 0.6840, 0.4854,  ..., 0.0000, 0.0000, 0.0000],\n",
       "           [0.6087, 0.6840, 0.4854,  ..., 0.0000, 0.0000, 0.0000]],\n",
       " \n",
       "          [[0.6087, 0.6840, 0.4854,  ..., 0.0000, 0.0000, 0.0000],\n",
       "           [0.6087, 0.6840, 0.4854,  ..., 0.0000, 0.0000, 0.0000],\n",
       "           [0.6087, 0.6840, 0.4854,  ..., 0.0000, 0.0000, 0.0000]]],\n",
       " \n",
       " \n",
       "         [[[0.7473, 0.1569, 0.6798,  ..., 0.8115, 0.8922, 0.9737],\n",
       "           [0.7473, 0.1569, 0.6798,  ..., 0.8115, 0.8922, 0.9737],\n",
       "           [0.7473, 0.1569, 0.6798,  ..., 0.8115, 0.8922, 0.9737]],\n",
       " \n",
       "          [[0.7473, 0.1569, 0.6798,  ..., 0.8115, 0.8922, 0.9737],\n",
       "           [0.7473, 0.1569, 0.6798,  ..., 0.8115, 0.8922, 0.9737],\n",
       "           [0.7473, 0.1569, 0.6798,  ..., 0.8115, 0.8922, 0.9737]],\n",
       " \n",
       "          [[0.7473, 0.1569, 0.6798,  ..., 0.8115, 0.8922, 0.9737],\n",
       "           [0.7473, 0.1569, 0.6798,  ..., 0.8115, 0.8922, 0.9737],\n",
       "           [0.7473, 0.1569, 0.6798,  ..., 0.8115, 0.8922, 0.9737]],\n",
       " \n",
       "          ...,\n",
       " \n",
       "          [[0.6636, 0.4014, 0.5692,  ..., 0.1070, 0.5050, 0.1866],\n",
       "           [0.6636, 0.4014, 0.5692,  ..., 0.1070, 0.5050, 0.1866],\n",
       "           [0.6636, 0.4014, 0.5692,  ..., 0.1070, 0.5050, 0.1866]],\n",
       " \n",
       "          [[0.6636, 0.4014, 0.5692,  ..., 0.1070, 0.5050, 0.1866],\n",
       "           [0.6636, 0.4014, 0.5692,  ..., 0.1070, 0.5050, 0.1866],\n",
       "           [0.6636, 0.4014, 0.5692,  ..., 0.1070, 0.5050, 0.1866]],\n",
       " \n",
       "          [[0.6636, 0.4014, 0.5692,  ..., 0.1070, 0.5050, 0.1866],\n",
       "           [0.6636, 0.4014, 0.5692,  ..., 0.1070, 0.5050, 0.1866],\n",
       "           [0.6636, 0.4014, 0.5692,  ..., 0.1070, 0.5050, 0.1866]]],\n",
       " \n",
       " \n",
       "         [[[0.1759, 0.8006, 0.6476,  ..., 0.4050, 0.3521, 0.7936],\n",
       "           [0.1759, 0.8006, 0.6476,  ..., 0.4050, 0.3521, 0.7936],\n",
       "           [0.1759, 0.8006, 0.6476,  ..., 0.4050, 0.3521, 0.7936]],\n",
       " \n",
       "          [[0.1759, 0.8006, 0.6476,  ..., 0.4050, 0.3521, 0.7936],\n",
       "           [0.1759, 0.8006, 0.6476,  ..., 0.4050, 0.3521, 0.7936],\n",
       "           [0.1759, 0.8006, 0.6476,  ..., 0.4050, 0.3521, 0.7936]],\n",
       " \n",
       "          [[0.1759, 0.8006, 0.6476,  ..., 0.4050, 0.3521, 0.7936],\n",
       "           [0.1759, 0.8006, 0.6476,  ..., 0.4050, 0.3521, 0.7936],\n",
       "           [0.1759, 0.8006, 0.6476,  ..., 0.4050, 0.3521, 0.7936]],\n",
       " \n",
       "          ...,\n",
       " \n",
       "          [[0.0756, 0.6255, 0.8317,  ..., 0.0000, 0.0000, 0.0000],\n",
       "           [0.0756, 0.6255, 0.8317,  ..., 0.0000, 0.0000, 0.0000],\n",
       "           [0.0756, 0.6255, 0.8317,  ..., 0.0000, 0.0000, 0.0000]],\n",
       " \n",
       "          [[0.0756, 0.6255, 0.8317,  ..., 0.0000, 0.0000, 0.0000],\n",
       "           [0.0756, 0.6255, 0.8317,  ..., 0.0000, 0.0000, 0.0000],\n",
       "           [0.0756, 0.6255, 0.8317,  ..., 0.0000, 0.0000, 0.0000]],\n",
       " \n",
       "          [[0.0756, 0.6255, 0.8317,  ..., 0.0000, 0.0000, 0.0000],\n",
       "           [0.0756, 0.6255, 0.8317,  ..., 0.0000, 0.0000, 0.0000],\n",
       "           [0.0756, 0.6255, 0.8317,  ..., 0.0000, 0.0000, 0.0000]]]]),\n",
       " tensor([1, 1, 1, 1, 1, 2, 0, 0, 0, 1, 1, 0, 1, 1, 1, 1, 0, 1, 0, 0, 0, 0, 0, 0,\n",
       "         1, 1, 2, 0, 0, 1, 2, 1])]"
      ]
     },
     "execution_count": 62,
     "metadata": {},
     "output_type": "execute_result"
    }
   ],
   "source": [
    "next(train_source_iter)[:2]"
   ]
  },
  {
   "cell_type": "code",
   "execution_count": 63,
   "metadata": {},
   "outputs": [],
   "source": [
    "x_s, labels_s = next(train_source_iter)[:2]"
   ]
  },
  {
   "cell_type": "code",
   "execution_count": 64,
   "metadata": {},
   "outputs": [
    {
     "data": {
      "text/plain": [
       "torch.Size([32, 224, 3, 224])"
      ]
     },
     "execution_count": 64,
     "metadata": {},
     "output_type": "execute_result"
    }
   ],
   "source": [
    "x_s.shape"
   ]
  },
  {
   "cell_type": "code",
   "execution_count": null,
   "metadata": {},
   "outputs": [],
   "source": []
  }
 ],
 "metadata": {
  "kernelspec": {
   "display_name": "Python 3",
   "language": "python",
   "name": "python3"
  },
  "language_info": {
   "codemirror_mode": {
    "name": "ipython",
    "version": 3
   },
   "file_extension": ".py",
   "mimetype": "text/x-python",
   "name": "python",
   "nbconvert_exporter": "python",
   "pygments_lexer": "ipython3",
   "version": "3.7.6"
  }
 },
 "nbformat": 4,
 "nbformat_minor": 4
}
