{
 "cells": [
  {
   "cell_type": "code",
   "execution_count": 2,
   "metadata": {},
   "outputs": [],
   "source": [
    "import glob\n",
    "import pandas as pd\n",
    "\n",
    "# Define the folder path and the file extension\n",
    "folder_path = \"/home/bkcs/HDD/Transfer-Learning-Library/examples/domain_adaptation/image_classification/Result/DAN/percent/\"\n",
    "file_extension = \".csv\"\n",
    "\n",
    "# Create an empty list to store the file names\n",
    "csv_files = []\n",
    "\n",
    "# Loop through the folder and its subfolders and find all csv files\n",
    "for file in glob.glob(folder_path + \"**/*\" + file_extension, recursive=True):\n",
    "    # Append the file name to the list\n",
    "    csv_files.append(file)\n",
    "\n",
    "# Loop through the list of csv files and read them into a DataFrame\n",
    "df = pd.concat([pd.read_csv(f) for f in csv_files])\n",
    "\n",
    "# Group by the columns and calculate the mean\n",
    "merge_df = df.groupby(['backbone', 'method', 'test_function', 'scenario', 'target', 'byte_size', 'trade_off', 'epoch', 'percent']).mean()\n",
    "\n",
    "# Save the merged DataFrame as a csv file\n",
    "merge_df.to_csv(\"percent_results.csv\")\n"
   ]
  }
 ],
 "metadata": {
  "kernelspec": {
   "display_name": "base",
   "language": "python",
   "name": "python3"
  },
  "language_info": {
   "codemirror_mode": {
    "name": "ipython",
    "version": 3
   },
   "file_extension": ".py",
   "mimetype": "text/x-python",
   "name": "python",
   "nbconvert_exporter": "python",
   "pygments_lexer": "ipython3",
   "version": "3.9.17"
  },
  "orig_nbformat": 4
 },
 "nbformat": 4,
 "nbformat_minor": 2
}
