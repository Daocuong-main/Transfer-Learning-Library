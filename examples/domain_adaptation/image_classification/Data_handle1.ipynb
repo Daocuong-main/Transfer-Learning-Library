{
 "cells": [
  {
   "cell_type": "code",
   "execution_count": 1,
   "metadata": {},
   "outputs": [
    {
     "data": {
      "text/plain": [
       "0"
      ]
     },
     "execution_count": 1,
     "metadata": {},
     "output_type": "execute_result"
    }
   ],
   "source": [
    "import random\n",
    "import time\n",
    "import warnings\n",
    "import argparse\n",
    "import shutil\n",
    "import os.path as osp\n",
    "from torchsummary import summary\n",
    "import os\n",
    "import torch\n",
    "import torch.nn as nn\n",
    "import torch.backends.cudnn as cudnn\n",
    "from torch.optim import SGD\n",
    "from torch.optim.lr_scheduler import LambdaLR\n",
    "from torch.utils.data import DataLoader\n",
    "import torch.nn.functional as F\n",
    "import cv2\n",
    "import numpy as np\n",
    "import custom_utils\n",
    "from matplotlib import pyplot as plt\n",
    "from custom_utils import plot_graph\n",
    "from torch.utils.data import Dataset, DataLoader\n",
    "from tllib.alignment.dan import MultipleKernelMaximumMeanDiscrepancy, ImageClassifier\n",
    "from tllib.modules.kernels import GaussianKernel\n",
    "from tllib.utils.data import ForeverDataIterator\n",
    "from tllib.utils.metric import accuracy\n",
    "from tllib.utils.meter import AverageMeter, ProgressMeter\n",
    "from tllib.utils.logger import CompleteLogger\n",
    "from tllib.utils.analysis import collect_feature, tsne, a_distance\n",
    "import pandas as pd\n",
    "import numpy\n",
    "import gc\n",
    "torch.set_printoptions(profile=\"full\")\n",
    "gc.collect()"
   ]
  },
  {
   "cell_type": "code",
   "execution_count": 2,
   "metadata": {},
   "outputs": [],
   "source": [
    "def remapping(df, map):\n",
    "    df_copy = df.copy()\n",
    "    df_copy['Label'] = df_copy['Label'].replace(map)\n",
    "    return df_copy"
   ]
  },
  {
   "cell_type": "code",
   "execution_count": 3,
   "metadata": {},
   "outputs": [],
   "source": [
    "# Set data path\n",
    "Train_path = '/home/bkcs/HDD/FL/Data_Processing/Data/Concatenated/Full_data/Concatenated_train.feather'\n",
    "Test_path = '/home/bkcs/HDD/FL/Data_Processing/Data/Concatenated/Full_data/Concatenated_test.feather'\n",
    "\n",
    "\n",
    "Train_data = pd.read_feather(Train_path)\n",
    "Test_data = pd.read_feather(Test_path)\n",
    "\n"
   ]
  },
  {
   "cell_type": "code",
   "execution_count": 4,
   "metadata": {},
   "outputs": [
    {
     "data": {
      "text/plain": [
       "Index(['flow_id', '0', '1', '2', '3', '4', '5', '6', '7', '8',\n",
       "       ...\n",
       "       '1015', '1016', '1017', '1018', '1019', '1020', '1021', '1022', '1023',\n",
       "       'Label'],\n",
       "      dtype='object', length=1026)"
      ]
     },
     "execution_count": 4,
     "metadata": {},
     "output_type": "execute_result"
    }
   ],
   "source": [
    "Train_data.columns"
   ]
  },
  {
   "cell_type": "code",
   "execution_count": 5,
   "metadata": {},
   "outputs": [
    {
     "data": {
      "text/plain": [
       "11    4728.0\n",
       "4     3715.0\n",
       "0     2850.0\n",
       "2     2784.0\n",
       "1     2042.0\n",
       "12    2036.0\n",
       "3     1776.0\n",
       "17    1512.0\n",
       "9     1475.0\n",
       "7     1338.0\n",
       "5     1132.0\n",
       "10    1119.0\n",
       "14     954.0\n",
       "16     726.0\n",
       "6      668.0\n",
       "13     402.0\n",
       "15     236.0\n",
       "8      157.0\n",
       "Name: Label, dtype: float64"
      ]
     },
     "execution_count": 5,
     "metadata": {},
     "output_type": "execute_result"
    }
   ],
   "source": [
    "Train_data['Label'].value_counts()/20"
   ]
  },
  {
   "cell_type": "code",
   "execution_count": 6,
   "metadata": {},
   "outputs": [],
   "source": [
    "mapping_dict = {'FileTransfer': 0, 'GoogleHangout_Chat': 1, 'Music': 2, 'VoIP': 3, 'Youtube': 4, 'alibaba': 5, 'amazon': 6, 'docs': 7, 'drive': 8, 'ebay': 9, 'facebook': 10, 'photo': 11, 'shopee': 12, 'thegioididong': 13, 'tiki': 14, 'tiktok': 15, 'youtube': 16, 'youtubelive': 17}\n",
    "reverse_mapping_dict = {v: k for k, v in mapping_dict.items()}\n",
    "Train_data['Label'].replace(reverse_mapping_dict,inplace=True)\n",
    "Test_data['Label'].replace(reverse_mapping_dict,inplace=True)\n"
   ]
  },
  {
   "cell_type": "code",
   "execution_count": 7,
   "metadata": {},
   "outputs": [
    {
     "data": {
      "text/plain": [
       "photo                 4728.0\n",
       "Youtube               3715.0\n",
       "FileTransfer          2850.0\n",
       "Music                 2784.0\n",
       "GoogleHangout_Chat    2042.0\n",
       "shopee                2036.0\n",
       "VoIP                  1776.0\n",
       "youtubelive           1512.0\n",
       "ebay                  1475.0\n",
       "docs                  1338.0\n",
       "alibaba               1132.0\n",
       "facebook              1119.0\n",
       "tiki                   954.0\n",
       "youtube                726.0\n",
       "amazon                 668.0\n",
       "thegioididong          402.0\n",
       "tiktok                 236.0\n",
       "drive                  157.0\n",
       "Name: Label, dtype: float64"
      ]
     },
     "execution_count": 7,
     "metadata": {},
     "output_type": "execute_result"
    }
   ],
   "source": [
    "Train_data['Label'].value_counts()/20"
   ]
  },
  {
   "cell_type": "code",
   "execution_count": 8,
   "metadata": {},
   "outputs": [
    {
     "data": {
      "text/plain": [
       "count    29650.0\n",
       "mean        20.0\n",
       "std          0.0\n",
       "min         20.0\n",
       "25%         20.0\n",
       "50%         20.0\n",
       "75%         20.0\n",
       "max         20.0\n",
       "Name: flow_id, dtype: float64"
      ]
     },
     "execution_count": 8,
     "metadata": {},
     "output_type": "execute_result"
    }
   ],
   "source": [
    "Train_data['flow_id'].value_counts().describe()"
   ]
  },
  {
   "cell_type": "code",
   "execution_count": 9,
   "metadata": {},
   "outputs": [
    {
     "name": "stdout",
     "output_type": "stream",
     "text": [
      "{'thegioididong': 0, 'amazon': 0, 'tiki': 0, 'alibaba': 0, 'ebay': 0, 'shopee': 0, 'tiktok': 1, 'youtube': 1, 'facebook': 1, 'youtubelive': 1, 'Youtube': 1, 'docs': 2, 'VoIP': 2, 'Music': 2, 'photo': 2, 'GoogleHangout_Chat': 2}\n"
     ]
    }
   ],
   "source": [
    "# ['Ecommerce', 'Video', 'FileTransfer', 'Google_service']\n",
    "# ['Ecommerce', 'Video', 'Google_service']\n",
    "# original_dict = {0: ['thegioididong','amazon','tiki','alibaba','ebay','shopee'],\n",
    "#                  1: ['tiktok','youtube','facebook','youtubelive','Youtube'],\n",
    "#                  2: ['drive','FileTransfer'],\n",
    "#                  3: ['docs','VoIP','Music','photo','GoogleHangout_Chat']}\n",
    "original_dict = {0: ['thegioididong','amazon','tiki','alibaba','ebay','shopee'],\n",
    "                 1: ['tiktok','youtube','facebook','youtubelive','Youtube'],\n",
    "                 2: ['docs','VoIP','Music','photo','GoogleHangout_Chat']}\n",
    "label_mapping = {}\n",
    "\n",
    "for key, values in original_dict.items():\n",
    "    for value in values:\n",
    "        label_mapping[value] = key\n",
    "\n",
    "print(label_mapping)\n"
   ]
  },
  {
   "cell_type": "code",
   "execution_count": 10,
   "metadata": {},
   "outputs": [],
   "source": [
    "source_labels = ['Youtube', 'GoogleHangout_Chat','shopee','tiki','thegioididong']\n",
    "target_labels = ['ebay','alibaba','amazon','VoIP','facebook']\n",
    "\n",
    "train_source = Train_data.loc[Train_data['Label'].isin(source_labels)]\n",
    "train_target = Train_data.loc[Train_data['Label'].isin(target_labels)]\n",
    "val_raw = Test_data.loc[Test_data['Label'].isin(source_labels)]\n",
    "test_raw =  Test_data.loc[Test_data['Label'].isin(target_labels)]\n",
    "del Train_data, Test_data\n"
   ]
  },
  {
   "cell_type": "code",
   "execution_count": 11,
   "metadata": {},
   "outputs": [],
   "source": [
    "train_source = remapping(train_source, label_mapping)\n",
    "train_target = remapping(train_target, label_mapping)\n",
    "test_raw = remapping(test_raw, label_mapping)\n",
    "val_raw = remapping(val_raw, label_mapping)"
   ]
  },
  {
   "cell_type": "code",
   "execution_count": 12,
   "metadata": {},
   "outputs": [
    {
     "data": {
      "text/plain": [
       "1    3715.0\n",
       "0    3392.0\n",
       "2    2042.0\n",
       "Name: Label, dtype: float64"
      ]
     },
     "execution_count": 12,
     "metadata": {},
     "output_type": "execute_result"
    }
   ],
   "source": [
    "train_source['Label'].value_counts()/20"
   ]
  },
  {
   "cell_type": "code",
   "execution_count": 13,
   "metadata": {},
   "outputs": [
    {
     "data": {
      "text/plain": [
       "0    3275.0\n",
       "2    1776.0\n",
       "1    1119.0\n",
       "Name: Label, dtype: float64"
      ]
     },
     "execution_count": 13,
     "metadata": {},
     "output_type": "execute_result"
    }
   ],
   "source": [
    "train_target['Label'].value_counts()/20"
   ]
  },
  {
   "cell_type": "code",
   "execution_count": 14,
   "metadata": {},
   "outputs": [
    {
     "data": {
      "text/plain": [
       "0    796.0\n",
       "2    422.0\n",
       "1    260.0\n",
       "Name: Label, dtype: float64"
      ]
     },
     "execution_count": 14,
     "metadata": {},
     "output_type": "execute_result"
    }
   ],
   "source": [
    "test_raw['Label'].value_counts()/20"
   ]
  },
  {
   "cell_type": "code",
   "execution_count": 15,
   "metadata": {},
   "outputs": [
    {
     "data": {
      "text/plain": [
       "1    930.0\n",
       "0    903.0\n",
       "2    514.0\n",
       "Name: Label, dtype: float64"
      ]
     },
     "execution_count": 15,
     "metadata": {},
     "output_type": "execute_result"
    }
   ],
   "source": [
    "val_raw['Label'].value_counts()/20"
   ]
  },
  {
   "cell_type": "code",
   "execution_count": 16,
   "metadata": {},
   "outputs": [],
   "source": [
    "train_source.reset_index(drop=True, inplace=True)\n",
    "train_target.reset_index(drop=True, inplace=True)\n",
    "val_raw.reset_index(drop=True, inplace=True)\n",
    "test_raw.reset_index(drop=True, inplace=True)\n"
   ]
  },
  {
   "cell_type": "code",
   "execution_count": 17,
   "metadata": {},
   "outputs": [
    {
     "data": {
      "text/plain": [
       "9149.0"
      ]
     },
     "execution_count": 17,
     "metadata": {},
     "output_type": "execute_result"
    }
   ],
   "source": [
    "train_source.shape[0]/20\n"
   ]
  },
  {
   "cell_type": "code",
   "execution_count": 18,
   "metadata": {},
   "outputs": [
    {
     "data": {
      "text/plain": [
       "6170.0"
      ]
     },
     "execution_count": 18,
     "metadata": {},
     "output_type": "execute_result"
    }
   ],
   "source": [
    "train_target.shape[0]/20\n"
   ]
  },
  {
   "cell_type": "code",
   "execution_count": 19,
   "metadata": {},
   "outputs": [
    {
     "data": {
      "text/plain": [
       "2347.0"
      ]
     },
     "execution_count": 19,
     "metadata": {},
     "output_type": "execute_result"
    }
   ],
   "source": [
    "val_raw.shape[0]/20\n"
   ]
  },
  {
   "cell_type": "code",
   "execution_count": 20,
   "metadata": {},
   "outputs": [
    {
     "data": {
      "text/plain": [
       "1478.0"
      ]
     },
     "execution_count": 20,
     "metadata": {},
     "output_type": "execute_result"
    }
   ],
   "source": [
    "test_raw.shape[0]/20"
   ]
  },
  {
   "cell_type": "code",
   "execution_count": 24,
   "metadata": {},
   "outputs": [
    {
     "name": "stderr",
     "output_type": "stream",
     "text": [
      "/home/bkcs/miniconda3/lib/python3.7/site-packages/ipykernel_launcher.py:14: UserWarning: Matplotlib is currently using agg, which is a non-GUI backend, so cannot show the figure.\n",
      "  \n"
     ]
    }
   ],
   "source": [
    "# Plotting the first ten rows of the DataFrame and saving as images\n",
    "plt.figure(figsize=(10, 15))\n",
    "\n",
    "for i in range(10):\n",
    "    plt.subplot(10, 1, i + 1)\n",
    "    plt.imshow(test_raw.iloc[i:i + 1], cmap='viridis', aspect='auto')\n",
    "    plt.colorbar()\n",
    "    plt.title(f'Row {i+1} Visualization')\n",
    "    plt.xlabel('Columns')\n",
    "    plt.ylabel('Row')\n",
    "\n",
    "plt.tight_layout()\n",
    "plt.savefig('first_ten_rows.png')  # Save the visualizations of the first ten rows as an image file\n",
    "plt.show()\n"
   ]
  },
  {
   "cell_type": "code",
   "execution_count": 21,
   "metadata": {},
   "outputs": [],
   "source": [
    "def get_nbyte(df, num_byte):\n",
    "    df = pd.concat([df.loc[:, : num_byte], df.iloc[:, -1:]], axis=1)\n",
    "    return df"
   ]
  },
  {
   "cell_type": "code",
   "execution_count": 57,
   "metadata": {},
   "outputs": [],
   "source": [
    "data_bytes = ['9', '31', '63', '127', '255', '383', '511', '1023']\n",
    "\n",
    "for each_byte in data_bytes:\n",
    "    sub_train_source = get_nbyte(train_source, each_byte)\n",
    "    sub_train_target = get_nbyte(train_target, each_byte)\n",
    "    sub_val_raw = get_nbyte(val_raw, each_byte)\n",
    "    sub_test_raw = get_nbyte(test_raw, each_byte)\n",
    "    \n",
    "    each_byte = str(int(each_byte) + 1)\n",
    "    train_source_name = \"train_source_\" + each_byte + \".feather\"\n",
    "    train_target_name = \"train_target_\" + each_byte + \".feather\"\n",
    "    val_raw_name = \"val_raw_\" + each_byte + \".feather\"\n",
    "    test_raw_name = \"test_raw_\" + each_byte + \".feather\"\n",
    "\n",
    "    path = \"/home/bkcs/HDD/Transfer-Learning-Library/examples/domain_adaptation/image_classification/data/concat/\"\n",
    "\n",
    "    sub_train_source.to_feather(path + train_source_name)\n",
    "    sub_train_target.to_feather(path + train_target_name)\n",
    "    sub_val_raw.to_feather(path + val_raw_name)\n",
    "    sub_test_raw.to_feather(path + test_raw_name)\n"
   ]
  },
  {
   "cell_type": "code",
   "execution_count": 58,
   "metadata": {},
   "outputs": [
    {
     "name": "stdout",
     "output_type": "stream",
     "text": [
      "Elapsed time: 00:00:0.000\n"
     ]
    }
   ],
   "source": [
    "import datetime\n",
    "import time\n",
    "\n",
    "# Start the timer\n",
    "start_time = time.time()\n",
    "\n",
    "# Your code for model training, validation, or testing goes here\n",
    "# ...\n",
    "\n",
    "# Calculate the elapsed time\n",
    "elapsed_time = time.time() - start_time\n",
    "\n",
    "# Convert elapsed time to hours, minutes, seconds, and smaller units of seconds\n",
    "hours, rem = divmod(elapsed_time, 3600)\n",
    "minutes, rem = divmod(rem, 60)\n",
    "seconds, microseconds = divmod(rem, 1)\n",
    "microseconds = round(microseconds, 3)\n",
    "\n",
    "# Print the elapsed time\n",
    "print(\"Elapsed time: {:0>2}:{:0>2}:{:05.3f}\".format(int(hours), int(minutes), seconds + microseconds))\n"
   ]
  }
 ],
 "metadata": {
  "kernelspec": {
   "display_name": "Python 3 (ipykernel)",
   "language": "python",
   "name": "python3"
  },
  "language_info": {
   "codemirror_mode": {
    "name": "ipython",
    "version": 3
   },
   "file_extension": ".py",
   "mimetype": "text/x-python",
   "name": "python",
   "nbconvert_exporter": "python",
   "pygments_lexer": "ipython3",
   "version": "3.7.16"
  }
 },
 "nbformat": 4,
 "nbformat_minor": 4
}
