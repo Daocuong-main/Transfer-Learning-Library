{
 "cells": [
  {
   "cell_type": "code",
   "execution_count": 103,
   "metadata": {},
   "outputs": [
    {
     "data": {
      "text/plain": [
       "82"
      ]
     },
     "execution_count": 103,
     "metadata": {},
     "output_type": "execute_result"
    }
   ],
   "source": [
    "import random\n",
    "import time\n",
    "import warnings\n",
    "import argparse\n",
    "import shutil\n",
    "import os.path as osp\n",
    "from torchsummary import summary\n",
    "import os\n",
    "import torch\n",
    "import torch.nn as nn\n",
    "import torch.backends.cudnn as cudnn\n",
    "from torch.optim import SGD\n",
    "from torch.optim.lr_scheduler import LambdaLR\n",
    "from torch.utils.data import DataLoader\n",
    "import torch.nn.functional as F\n",
    "import cv2\n",
    "import numpy as np\n",
    "import custom_utils\n",
    "from matplotlib import pyplot as plt\n",
    "from custom_utils import plot_graph\n",
    "from torch.utils.data import Dataset, DataLoader\n",
    "from tllib.alignment.dan import MultipleKernelMaximumMeanDiscrepancy, ImageClassifier\n",
    "from tllib.modules.kernels import GaussianKernel\n",
    "from tllib.utils.data import ForeverDataIterator\n",
    "from tllib.utils.metric import accuracy\n",
    "from tllib.utils.meter import AverageMeter, ProgressMeter\n",
    "from tllib.utils.logger import CompleteLogger\n",
    "from tllib.utils.analysis import collect_feature, tsne, a_distance\n",
    "import pandas as pd\n",
    "import numpy\n",
    "import gc\n",
    "gc.collect()"
   ]
  },
  {
   "cell_type": "code",
   "execution_count": 104,
   "metadata": {},
   "outputs": [],
   "source": [
    "def remapping(df, map):\n",
    "    df_copy = df.copy()\n",
    "    df_copy['Label'] = df_copy['Label'].replace(map)\n",
    "    return df_copy"
   ]
  },
  {
   "cell_type": "code",
   "execution_count": 105,
   "metadata": {},
   "outputs": [],
   "source": [
    "# Set data path\n",
    "Train_path = '/home/bkcs/HDD/FL/Data_Processing/Data/Concatenated/Concatenated_small/Train/Concatenated_train_256.feather'\n",
    "Test_path = '/home/bkcs/HDD/FL/Data_Processing/Data/Concatenated/Concatenated_small/Test/Concatenated_test_256.feather'\n",
    "fallback_Train_path = '/home/bkcs/HDD/FL/Data_Processing/concatenated_Train.feather'\n",
    "fallback_Test_path = '/home/bkcs/HDD/FL/Data_Processing/concatenated_Test.feather'\n",
    "\n",
    "if os.path.isfile(Train_path):\n",
    "    Train_data = pd.read_feather(Train_path)\n",
    "    Test_data = pd.read_feather(Test_path)\n",
    "else:\n",
    "    print(\"File not found at path:\", Train_path)\n",
    "    print(\"Change to:\", fallback_Train_path)\n",
    "    Train_data = pd.read_feather(fallback_Train_path)\n",
    "    Test_data = pd.read_feather(fallback_Test_path)\n"
   ]
  },
  {
   "cell_type": "code",
   "execution_count": 106,
   "metadata": {},
   "outputs": [
    {
     "data": {
      "text/plain": [
       "11    4728.0\n",
       "4     3715.0\n",
       "0     2850.0\n",
       "2     2784.0\n",
       "1     2042.0\n",
       "12    2036.0\n",
       "3     1776.0\n",
       "17    1512.0\n",
       "9     1475.0\n",
       "7     1338.0\n",
       "5     1132.0\n",
       "10    1119.0\n",
       "14     954.0\n",
       "16     726.0\n",
       "6      668.0\n",
       "13     402.0\n",
       "15     236.0\n",
       "8      157.0\n",
       "Name: Label, dtype: float64"
      ]
     },
     "execution_count": 106,
     "metadata": {},
     "output_type": "execute_result"
    }
   ],
   "source": [
    "Train_data['Label'].value_counts()/20"
   ]
  },
  {
   "cell_type": "code",
   "execution_count": 107,
   "metadata": {},
   "outputs": [],
   "source": [
    "mapping_dict = {'FileTransfer': 0, 'GoogleHangout_Chat': 1, 'Music': 2, 'VoIP': 3, 'Youtube': 4, 'alibaba': 5, 'amazon': 6, 'docs': 7, 'drive': 8, 'ebay': 9, 'facebook': 10, 'photo': 11, 'shopee': 12, 'thegioididong': 13, 'tiki': 14, 'tiktok': 15, 'youtube': 16, 'youtubelive': 17}\n",
    "reverse_mapping_dict = {v: k for k, v in mapping_dict.items()}\n",
    "Train_data['Label'].replace(reverse_mapping_dict,inplace=True)\n",
    "Test_data['Label'].replace(reverse_mapping_dict,inplace=True)\n"
   ]
  },
  {
   "cell_type": "code",
   "execution_count": 108,
   "metadata": {},
   "outputs": [
    {
     "data": {
      "text/plain": [
       "photo                 4728.0\n",
       "Youtube               3715.0\n",
       "FileTransfer          2850.0\n",
       "Music                 2784.0\n",
       "GoogleHangout_Chat    2042.0\n",
       "shopee                2036.0\n",
       "VoIP                  1776.0\n",
       "youtubelive           1512.0\n",
       "ebay                  1475.0\n",
       "docs                  1338.0\n",
       "alibaba               1132.0\n",
       "facebook              1119.0\n",
       "tiki                   954.0\n",
       "youtube                726.0\n",
       "amazon                 668.0\n",
       "thegioididong          402.0\n",
       "tiktok                 236.0\n",
       "drive                  157.0\n",
       "Name: Label, dtype: float64"
      ]
     },
     "execution_count": 108,
     "metadata": {},
     "output_type": "execute_result"
    }
   ],
   "source": [
    "Train_data['Label'].value_counts()/20"
   ]
  },
  {
   "cell_type": "code",
   "execution_count": 109,
   "metadata": {},
   "outputs": [
    {
     "data": {
      "text/plain": [
       "count    29650.0\n",
       "mean        20.0\n",
       "std          0.0\n",
       "min         20.0\n",
       "25%         20.0\n",
       "50%         20.0\n",
       "75%         20.0\n",
       "max         20.0\n",
       "Name: flow_id, dtype: float64"
      ]
     },
     "execution_count": 109,
     "metadata": {},
     "output_type": "execute_result"
    }
   ],
   "source": [
    "Train_data['flow_id'].value_counts().describe()"
   ]
  },
  {
   "cell_type": "code",
   "execution_count": 110,
   "metadata": {},
   "outputs": [
    {
     "name": "stdout",
     "output_type": "stream",
     "text": [
      "{'thegioididong': 0, 'amazon': 0, 'tiki': 0, 'alibaba': 0, 'ebay': 0, 'shopee': 0, 'tiktok': 1, 'youtube': 1, 'facebook': 1, 'youtubelive': 1, 'Youtube': 1, 'docs': 2, 'VoIP': 2, 'Music': 2, 'photo': 2, 'GoogleHangout_Chat': 2}\n"
     ]
    }
   ],
   "source": [
    "# ['Ecommerce', 'Video', 'FileTransfer', 'Google_service']\n",
    "# ['Ecommerce', 'Video', 'Google_service']\n",
    "# original_dict = {0: ['thegioididong','amazon','tiki','alibaba','ebay','shopee'],\n",
    "#                  1: ['tiktok','youtube','facebook','youtubelive','Youtube'],\n",
    "#                  2: ['drive','FileTransfer'],\n",
    "#                  3: ['docs','VoIP','Music','photo','GoogleHangout_Chat']}\n",
    "original_dict = {0: ['thegioididong','amazon','tiki','alibaba','ebay','shopee'],\n",
    "                 1: ['tiktok','youtube','facebook','youtubelive','Youtube'],\n",
    "                 2: ['docs','VoIP','Music','photo','GoogleHangout_Chat']}\n",
    "label_mapping = {}\n",
    "\n",
    "for key, values in original_dict.items():\n",
    "    for value in values:\n",
    "        label_mapping[value] = key\n",
    "\n",
    "print(label_mapping)\n"
   ]
  },
  {
   "cell_type": "code",
   "execution_count": 111,
   "metadata": {},
   "outputs": [],
   "source": [
    "source_labels = ['Youtube', 'GoogleHangout_Chat','shopee','tiki','thegioididong']\n",
    "target_labels = ['ebay','alibaba','amazon','VoIP','facebook']\n",
    "\n",
    "train_source = Train_data.loc[Train_data['Label'].isin(source_labels)]\n",
    "train_target = Train_data.loc[Train_data['Label'].isin(target_labels)]\n",
    "val_raw = Test_data.loc[Test_data['Label'].isin(source_labels)]\n",
    "test_raw =  Test_data.loc[Test_data['Label'].isin(target_labels)]\n",
    "del Train_data, Test_data\n"
   ]
  },
  {
   "cell_type": "code",
   "execution_count": 112,
   "metadata": {},
   "outputs": [],
   "source": [
    "train_source = remapping(train_source, label_mapping)\n",
    "train_target = remapping(train_target, label_mapping)\n",
    "test_raw = remapping(test_raw, label_mapping)\n",
    "val_raw = remapping(val_raw, label_mapping)"
   ]
  },
  {
   "cell_type": "code",
   "execution_count": 113,
   "metadata": {},
   "outputs": [
    {
     "data": {
      "text/plain": [
       "1    3715.0\n",
       "0    3392.0\n",
       "2    2042.0\n",
       "Name: Label, dtype: float64"
      ]
     },
     "execution_count": 113,
     "metadata": {},
     "output_type": "execute_result"
    }
   ],
   "source": [
    "train_source['Label'].value_counts()/20"
   ]
  },
  {
   "cell_type": "code",
   "execution_count": 114,
   "metadata": {},
   "outputs": [
    {
     "data": {
      "text/plain": [
       "0    3275.0\n",
       "2    1776.0\n",
       "1    1119.0\n",
       "Name: Label, dtype: float64"
      ]
     },
     "execution_count": 114,
     "metadata": {},
     "output_type": "execute_result"
    }
   ],
   "source": [
    "train_target['Label'].value_counts()/20"
   ]
  },
  {
   "cell_type": "code",
   "execution_count": 115,
   "metadata": {},
   "outputs": [
    {
     "data": {
      "text/plain": [
       "0    796.0\n",
       "2    422.0\n",
       "1    260.0\n",
       "Name: Label, dtype: float64"
      ]
     },
     "execution_count": 115,
     "metadata": {},
     "output_type": "execute_result"
    }
   ],
   "source": [
    "test_raw['Label'].value_counts()/20"
   ]
  },
  {
   "cell_type": "code",
   "execution_count": 116,
   "metadata": {},
   "outputs": [
    {
     "data": {
      "text/plain": [
       "1    930.0\n",
       "0    903.0\n",
       "2    514.0\n",
       "Name: Label, dtype: float64"
      ]
     },
     "execution_count": 116,
     "metadata": {},
     "output_type": "execute_result"
    }
   ],
   "source": [
    "val_raw['Label'].value_counts()/20"
   ]
  },
  {
   "cell_type": "code",
   "execution_count": 117,
   "metadata": {},
   "outputs": [],
   "source": [
    "train_source.reset_index(drop=True, inplace=True)\n",
    "train_target.reset_index(drop=True, inplace=True)\n",
    "val_raw.reset_index(drop=True, inplace=True)\n",
    "test_raw.reset_index(drop=True, inplace=True)\n"
   ]
  },
  {
   "cell_type": "code",
   "execution_count": 118,
   "metadata": {},
   "outputs": [],
   "source": [
    "train_source.to_feather('/home/bkcs/HDD/Transfer-Learning-Library/examples/domain_adaptation/image_classification/data/concat/train_source.feather')\n",
    "train_target.to_feather('/home/bkcs/HDD/Transfer-Learning-Library/examples/domain_adaptation/image_classification/data/concat/train_target.feather')\n",
    "val_raw.to_feather('/home/bkcs/HDD/Transfer-Learning-Library/examples/domain_adaptation/image_classification/data/concat/val_raw.feather')\n",
    "test_raw.to_feather('/home/bkcs/HDD/Transfer-Learning-Library/examples/domain_adaptation/image_classification/data/concat/test_raw.feather')"
   ]
  },
  {
   "cell_type": "code",
   "execution_count": 119,
   "metadata": {},
   "outputs": [
    {
     "name": "stdout",
     "output_type": "stream",
     "text": [
      "Elapsed time: 00:00:0.000\n"
     ]
    }
   ],
   "source": [
    "import datetime\n",
    "import time\n",
    "\n",
    "# Start the timer\n",
    "start_time = time.time()\n",
    "\n",
    "# Your code for model training, validation, or testing goes here\n",
    "# ...\n",
    "\n",
    "# Calculate the elapsed time\n",
    "elapsed_time = time.time() - start_time\n",
    "\n",
    "# Convert elapsed time to hours, minutes, seconds, and smaller units of seconds\n",
    "hours, rem = divmod(elapsed_time, 3600)\n",
    "minutes, rem = divmod(rem, 60)\n",
    "seconds, microseconds = divmod(rem, 1)\n",
    "microseconds = round(microseconds, 3)\n",
    "\n",
    "# Print the elapsed time\n",
    "print(\"Elapsed time: {:0>2}:{:0>2}:{:05.3f}\".format(int(hours), int(minutes), seconds + microseconds))\n"
   ]
  }
 ],
 "metadata": {
  "kernelspec": {
   "display_name": "Python 3 (ipykernel)",
   "language": "python",
   "name": "python3"
  },
  "language_info": {
   "codemirror_mode": {
    "name": "ipython",
    "version": 3
   },
   "file_extension": ".py",
   "mimetype": "text/x-python",
   "name": "python",
   "nbconvert_exporter": "python",
   "pygments_lexer": "ipython3",
   "version": "3.7.12"
  }
 },
 "nbformat": 4,
 "nbformat_minor": 4
}
