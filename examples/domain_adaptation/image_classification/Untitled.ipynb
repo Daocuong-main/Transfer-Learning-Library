{
 "cells": [
  {
   "cell_type": "code",
   "execution_count": 1009,
   "metadata": {},
   "outputs": [],
   "source": [
    "import custom_utils\n",
    "import cv2\n",
    "import matplotlib\n",
    "import matplotlib.colors as col\n",
    "import matplotlib.pyplot as plt\n",
    "import numpy\n",
    "import numpy as np\n",
    "import pandas as pd\n",
    "import torch\n",
    "import torch.backends.cudnn as cudnn\n",
    "import torch.nn as nn\n",
    "import torch.nn.functional as F\n",
    "from custom_utils import plot_graph\n",
    "from matplotlib import pyplot as plt\n",
    "from sklearn.manifold import TSNE\n",
    "from sklearn.metrics import ConfusionMatrixDisplay\n",
    "from torch.optim import SGD\n",
    "from torch.optim.lr_scheduler import LambdaLR\n",
    "from torch.utils.data import DataLoader, Dataset\n",
    "from torchsummary import summary"
   ]
  },
  {
   "cell_type": "code",
   "execution_count": 1010,
   "metadata": {},
   "outputs": [],
   "source": [
    "from warnings import warn\n",
    "from numpy import mean, transpose, cov, cos, sin, shape, exp, newaxis, concatenate\n",
    "from numpy.linalg import linalg, LinAlgError, solve\n",
    "from scipy.stats import chi2"
   ]
  },
  {
   "cell_type": "code",
   "execution_count": 1011,
   "metadata": {},
   "outputs": [],
   "source": [
    "device = torch.device(\"cuda\" if torch.cuda.is_available() else \"cpu\")"
   ]
  },
  {
   "attachments": {},
   "cell_type": "markdown",
   "metadata": {},
   "source": [
    "### Create 2 tensor"
   ]
  },
  {
   "cell_type": "code",
   "execution_count": 1012,
   "metadata": {},
   "outputs": [
    {
     "name": "stdout",
     "output_type": "stream",
     "text": [
      "torch.Size([16, 256])\n",
      "torch.Size([16, 256])\n"
     ]
    }
   ],
   "source": [
    "import torch\n",
    "\n",
    "# Create two random tensors of size (16, 256)\n",
    "A = torch.randn(16, 256)\n",
    "B = torch.randn(16, 256)\n",
    "\n",
    "# Print the resulting tensors\n",
    "print(A.size())\n",
    "print(B.size())\n"
   ]
  },
  {
   "cell_type": "code",
   "execution_count": 1013,
   "metadata": {},
   "outputs": [],
   "source": [
    "# points = numpy.random.randn(2, 256)\n",
    "# points = torch.randn(2, 256)"
   ]
  },
  {
   "attachments": {},
   "cell_type": "markdown",
   "metadata": {},
   "source": [
    "### Original code"
   ]
  },
  {
   "cell_type": "code",
   "execution_count": 1014,
   "metadata": {},
   "outputs": [],
   "source": [
    "def mahalanobis_distance(difference, num_random_features):\n",
    "    num_samples, _ = shape(difference)\n",
    "    sigma = cov(transpose(difference))\n",
    "\n",
    "    try:\n",
    "        linalg.inv(sigma)\n",
    "    except LinAlgError:\n",
    "        warn('covariance matrix is singular. Pvalue returned is 1.1')\n",
    "        raise\n",
    "\n",
    "    mu = mean(difference, 0)\n",
    "\n",
    "    if num_random_features == 1:\n",
    "        stat = float(num_samples * mu ** 2) / float(sigma)\n",
    "    else:\n",
    "        print('Original')\n",
    "        solve_function = solve(sigma, transpose(mu))\n",
    "        print(f'solve_function:\\n{solve_function}')\n",
    "        right_side = mu.dot(solve_function)\n",
    "        print(f'right_side:\\n{right_side} **')\n",
    "        stat = num_samples * right_side\n",
    "\n",
    "    return chi2.sf(stat, num_random_features)"
   ]
  },
  {
   "cell_type": "code",
   "execution_count": 1015,
   "metadata": {},
   "outputs": [],
   "source": [
    "class MeanEmbeddingTest:\n",
    "\n",
    "    def __init__(self, data_x, data_y, scale=1, number_of_random_frequencies=5):\n",
    "        self.data_x = scale*data_x\n",
    "        self.data_y = scale*data_y\n",
    "        self.number_of_frequencies = number_of_random_frequencies\n",
    "        self.scale = scale\n",
    "\n",
    "    def get_estimate(self, data, point):\n",
    "        z = data - self.scale * point\n",
    "        z2 = numpy.linalg.norm(z, axis=1)**2\n",
    "        return numpy.exp(-z2/2.0)\n",
    "\n",
    "\n",
    "    def get_difference(self, point):\n",
    "        return self.get_estimate(self.data_x, point) - self.get_estimate(self.data_y, point)\n",
    "\n",
    "\n",
    "    def vector_of_differences(self, dim):\n",
    "        points = numpy.random.randn(self.number_of_frequencies, dim)\n",
    "        a = [self.get_difference(point) for point in points]\n",
    "        return numpy.array(a).T\n",
    "\n",
    "    def compute_pvalue(self):\n",
    "\n",
    "        _, dimension = numpy.shape(self.data_x)\n",
    "        obs = self.vector_of_differences(dimension)\n",
    "\n",
    "        return mahalanobis_distance(obs, self.number_of_frequencies)"
   ]
  },
  {
   "cell_type": "code",
   "execution_count": 1016,
   "metadata": {},
   "outputs": [
    {
     "name": "stdout",
     "output_type": "stream",
     "text": [
      "Original\n",
      "solve_function:\n",
      "[-1.64265500e+98 -1.18128473e+98]\n",
      "right_side:\n",
      "0.16125854497196118 **\n",
      "transfer_loss: 0.27525196628393006\n"
     ]
    }
   ],
   "source": [
    "mkme_loss = MeanEmbeddingTest(A, B, scale=1, number_of_random_frequencies=2)\n",
    "transfer_loss = mkme_loss.compute_pvalue()\n",
    "print(f'transfer_loss: {transfer_loss}')"
   ]
  },
  {
   "cell_type": "code",
   "execution_count": 1017,
   "metadata": {},
   "outputs": [],
   "source": [
    "def smooth(data):\n",
    "    w = linalg.norm(data, axis=1)\n",
    "    print('after norm')\n",
    "    print(w)\n",
    "    beta = -w ** 2 / 2.0\n",
    "    print('beta')\n",
    "    print(beta)\n",
    "    w = exp(beta)\n",
    "    print('after exp')\n",
    "    print(w)\n",
    "    return w[:, newaxis]\n",
    "\n",
    "\n",
    "def smooth_cf(data, w, random_frequencies):\n",
    "    n, _ = data.shape\n",
    "    _, d = random_frequencies.shape\n",
    "    mat = data.dot(random_frequencies)\n",
    "    arr = concatenate((sin(mat) * w, cos(mat) * w), 1)\n",
    "    n1, d1 = arr.shape\n",
    "    assert n1 == n and d1 == 2 * d and w.shape == (n, 1)\n",
    "    return arr\n",
    "\n",
    "\n",
    "def smooth_difference(random_frequencies, X, Y):\n",
    "    x_smooth = smooth(X)\n",
    "    y_smooth = smooth(Y)\n",
    "    characteristic_function_x = smooth_cf(X, x_smooth, random_frequencies)\n",
    "    characteristic_function_y = smooth_cf(Y, y_smooth, random_frequencies)\n",
    "    return characteristic_function_x - characteristic_function_y\n",
    "\n",
    "class SmoothCFTest:\n",
    "\n",
    "    def _gen_random(self, dimension):\n",
    "        return numpy.random.randn(dimension, self.num_random_features)\n",
    "\n",
    "\n",
    "    def __init__(self, data_x, data_y, scale, num_random_features, frequency_generator=None):\n",
    "        self.data_x = scale*data_x.detach().cpu().numpy()\n",
    "        self.data_y = scale*data_y.detach().cpu().numpy()\n",
    "        self.num_random_features = num_random_features\n",
    "\n",
    "        _, dimension_x = numpy.shape(self.data_x)\n",
    "        _, dimension_y = numpy.shape(self.data_y)\n",
    "        assert dimension_x == dimension_y\n",
    "        self.random_frequencies = self._gen_random(dimension_x)\n",
    "\n",
    "\n",
    "    def compute_pvalue(self):\n",
    "\n",
    "        difference = smooth_difference(self.random_frequencies, self.data_x, self.data_y)\n",
    "        return mahalanobis_distance(difference, 2 * self.num_random_features)"
   ]
  },
  {
   "cell_type": "code",
   "execution_count": 1018,
   "metadata": {},
   "outputs": [
    {
     "name": "stdout",
     "output_type": "stream",
     "text": [
      "after norm\n",
      "[17.299675  15.755465  15.693022  15.9108715 16.26306   17.860605\n",
      " 14.877518  15.766319  16.149252  16.292368  16.076368  15.546218\n",
      " 15.941503  16.281757  16.616148  16.971794 ]\n",
      "beta\n",
      "[-149.63937  -124.11733  -123.13547  -126.57792  -132.24356  -159.50061\n",
      " -110.670265 -124.288414 -130.39917  -132.72063  -129.22481  -120.842445\n",
      " -127.06575  -132.5478   -138.04819  -144.0209  ]\n",
      "after exp\n",
      "[0. 0. 0. 0. 0. 0. 0. 0. 0. 0. 0. 0. 0. 0. 0. 0.]\n",
      "after norm\n",
      "[16.238874 16.428133 16.914322 15.943955 15.773848 16.411478 16.847824\n",
      " 15.950004 15.305755 15.590869 14.610736 15.231061 15.188093 14.33715\n",
      " 15.91739  15.268224]\n",
      "beta\n",
      "[-131.85052  -134.94177  -143.04715  -127.10486  -124.407135 -134.6683\n",
      " -141.92459  -127.20131  -117.133064 -121.5376   -106.7368   -115.99261\n",
      " -115.33909  -102.77693  -126.68165  -116.559326]\n",
      "after exp\n",
      "[0.e+00 0.e+00 0.e+00 0.e+00 0.e+00 0.e+00 0.e+00 0.e+00 0.e+00 0.e+00\n",
      " 0.e+00 0.e+00 0.e+00 3.e-45 0.e+00 0.e+00]\n",
      "Original\n",
      "solve_function:\n",
      "[-2.36974918e+44 -1.78405962e+44 -7.13623846e+44  1.78405962e+44]\n",
      "right_side:\n",
      "0.0625 **\n",
      "transfer_loss: 0.9097959895689501\n"
     ]
    }
   ],
   "source": [
    "mkme_loss = SmoothCFTest(A, B, scale=1, num_random_features=2)\n",
    "transfer_loss = mkme_loss.compute_pvalue()\n",
    "print(f'transfer_loss: {transfer_loss}')"
   ]
  },
  {
   "attachments": {},
   "cell_type": "markdown",
   "metadata": {},
   "source": [
    "### custom_eu"
   ]
  },
  {
   "cell_type": "code",
   "execution_count": 1019,
   "metadata": {},
   "outputs": [],
   "source": [
    "def mahalanobis_distance(difference, num_random_features):\n",
    "    num_samples, _ = difference.shape\n",
    "    sigma = torch.cov(difference.T)\n",
    "    mu = torch.mean(difference, 0)\n",
    "    if num_random_features == 1:\n",
    "        stat = float(num_samples * torch.pow(mu, 2)) / float(sigma)\n",
    "    else:\n",
    "        right_side = torch.matmul(mu, mu.T)\n",
    "        print(f'right_side:\\n{right_side}')\n",
    "        stat = num_samples * right_side\n",
    "        print(f'stat:\\n{stat}')\n",
    "    return chi2.sf(stat.detach().cpu(), num_random_features)\n",
    "\n",
    "\n",
    "class MeanEmbeddingTest:\n",
    "\n",
    "    def __init__(self, data_x, data_y, scale, number_of_random_frequencies, device):\n",
    "        self.device = device\n",
    "        self.data_x = scale * data_x.to(device)\n",
    "        self.data_y = scale * data_y.to(device)\n",
    "        self.number_of_frequencies = number_of_random_frequencies\n",
    "        self.scale = scale\n",
    "\n",
    "    def get_estimate(self, data, point):\n",
    "        z = data - self.scale * point\n",
    "        z2 = torch.norm(z, p=2, dim=1)**2\n",
    "        return torch.exp(-z2/2.0)\n",
    "\n",
    "    def get_difference(self, point):\n",
    "        return self.get_estimate(self.data_x, point) - self.get_estimate(self.data_y, point)\n",
    "\n",
    "    def vector_of_differences(self, dim):\n",
    "        points = torch.tensor(numpy.random.randn(\n",
    "            self.number_of_frequencies, dim)).to(self.device)\n",
    "        a = [self.get_difference(point) for point in points]\n",
    "        return torch.stack(a).T\n",
    "\n",
    "    def compute_pvalue(self):\n",
    "\n",
    "        _, dimension = self.data_x.size()\n",
    "        obs = self.vector_of_differences(dimension)\n",
    "        return mahalanobis_distance(obs, self.number_of_frequencies)\n"
   ]
  },
  {
   "cell_type": "code",
   "execution_count": 1020,
   "metadata": {},
   "outputs": [
    {
     "name": "stdout",
     "output_type": "stream",
     "text": [
      "right_side:\n",
      "1.842170648771096e-179\n",
      "stat:\n",
      "2.947473038033754e-178\n",
      "transfer_loss: 1.0\n"
     ]
    }
   ],
   "source": [
    "mkme_loss = MeanEmbeddingTest(A, B ,scale=1, number_of_random_frequencies=2, device=device)\n",
    "transfer_loss = mkme_loss.compute_pvalue()\n",
    "print(f'transfer_loss: {transfer_loss}')"
   ]
  },
  {
   "attachments": {},
   "cell_type": "markdown",
   "metadata": {},
   "source": [
    "## SCF"
   ]
  },
  {
   "cell_type": "code",
   "execution_count": 1021,
   "metadata": {},
   "outputs": [],
   "source": [
    "def smooth(data):\n",
    "    print('data')\n",
    "    print(data)\n",
    "    w = torch.linalg.norm(data, dim=1)\n",
    "    print('after norm')\n",
    "    print(w)\n",
    "    print(f'-torch.pow(w,2): {-torch.pow(w,2)}')\n",
    "    w = torch.exp(-w ** 2 / 2.0)\n",
    "    print('after exp')\n",
    "    print(w)\n",
    "    return w[:, newaxis]\n",
    "\n",
    "\n",
    "def smooth_cf(data, w, random_frequencies):\n",
    "    n, _ = data.shape\n",
    "    _, d = random_frequencies.shape\n",
    "    mat = torch.matmul(data,random_frequencies)\n",
    "    arr = torch.cat((torch.sin(mat) * w, torch.cos(mat) * w), dim = 1)\n",
    "    n1, d1 = arr.shape\n",
    "    assert n1 == n and d1 == 2 * d and w.shape == (n, 1)\n",
    "    return arr\n",
    "\n",
    "\n",
    "def smooth_difference(random_frequencies, X, Y):\n",
    "    x_smooth = smooth(X)\n",
    "    y_smooth = smooth(Y)\n",
    "    characteristic_function_x = smooth_cf(X, x_smooth, random_frequencies)\n",
    "    characteristic_function_y = smooth_cf(Y, y_smooth, random_frequencies)\n",
    "    return characteristic_function_x - characteristic_function_y\n",
    "\n",
    "class SmoothCFTest:\n",
    "\n",
    "    def _gen_random(self, dimension):\n",
    "        return torch.tensor(numpy.random.randn(dimension, self.num_random_features).astype(np.float32)).to(self.device)\n",
    "\n",
    "\n",
    "    def __init__(self, data_x, data_y, scale, num_random_features, device, frequency_generator=None):\n",
    "        self.device = device\n",
    "        self.data_x = scale*data_x.to(self.device)\n",
    "        self.data_y = scale*data_y.to(self.device)\n",
    "        self.num_random_features = num_random_features\n",
    "\n",
    "        _, dimension_x = numpy.shape(self.data_x)\n",
    "        _, dimension_y = numpy.shape(self.data_y)\n",
    "        assert dimension_x == dimension_y\n",
    "        self.random_frequencies = self._gen_random(dimension_x)\n",
    "\n",
    "\n",
    "    def compute_pvalue(self):\n",
    "        difference = smooth_difference(self.random_frequencies, self.data_x, self.data_y)\n",
    "        return mahalanobis_distance(difference, 2 * self.num_random_features)"
   ]
  },
  {
   "cell_type": "code",
   "execution_count": 1022,
   "metadata": {},
   "outputs": [
    {
     "name": "stdout",
     "output_type": "stream",
     "text": [
      "data\n",
      "tensor([[ 0.8408,  0.6097,  2.6534,  ...,  0.6043, -1.8668, -0.1236],\n",
      "        [-2.3901, -0.0141, -0.2644,  ..., -0.7488,  1.0507, -0.8017],\n",
      "        [-0.7533, -0.9772, -0.6795,  ...,  0.6511, -1.3017, -2.2515],\n",
      "        ...,\n",
      "        [ 2.0089,  0.5029, -1.0588,  ..., -0.7731,  0.9187, -0.5550],\n",
      "        [-0.4826, -0.2987,  0.1411,  ...,  0.7256,  1.5195,  2.2034],\n",
      "        [ 0.9428, -1.2763, -0.9038,  ...,  1.2772, -2.3631,  0.6699]],\n",
      "       device='cuda:0')\n",
      "after norm\n",
      "tensor([17.2997, 15.7555, 15.6930, 15.9109, 16.2631, 17.8606, 14.8775, 15.7663,\n",
      "        16.1493, 16.2924, 16.0764, 15.5462, 15.9415, 16.2818, 16.6161, 16.9718],\n",
      "       device='cuda:0')\n",
      "-torch.pow(w,2): tensor([-299.2788, -248.2347, -246.2709, -253.1558, -264.4871, -319.0012,\n",
      "        -221.3405, -248.5769, -260.7983, -265.4413, -258.4496, -241.6849,\n",
      "        -254.1315, -265.0956, -276.0964, -288.0418], device='cuda:0')\n",
      "after exp\n",
      "tensor([0., 0., 0., 0., 0., 0., 0., 0., 0., 0., 0., 0., 0., 0., 0., 0.],\n",
      "       device='cuda:0')\n",
      "data\n",
      "tensor([[ 1.5641,  0.4190, -2.4232,  ..., -1.3903,  0.0599, -0.9379],\n",
      "        [-0.9723,  0.5265, -1.1163,  ..., -0.4942,  0.5062,  0.1536],\n",
      "        [ 0.0041,  1.4940,  0.6590,  ...,  0.5077, -0.4379, -0.4075],\n",
      "        ...,\n",
      "        [-0.6148, -1.1801,  0.4408,  ...,  0.6528, -1.2169, -0.4973],\n",
      "        [-0.7193,  0.6277,  2.5577,  ...,  0.2492,  0.2679, -0.8633],\n",
      "        [-0.0909,  2.8726,  0.0671,  ...,  0.3895,  0.4903, -0.9225]],\n",
      "       device='cuda:0')\n",
      "after norm\n",
      "tensor([16.2389, 16.4281, 16.9143, 15.9440, 15.7738, 16.4115, 16.8478, 15.9500,\n",
      "        15.3058, 15.5909, 14.6107, 15.2311, 15.1881, 14.3371, 15.9174, 15.2682],\n",
      "       device='cuda:0')\n",
      "-torch.pow(w,2): tensor([-263.7011, -269.8836, -286.0943, -254.2097, -248.8143, -269.3366,\n",
      "        -283.8492, -254.4026, -234.2661, -243.0752, -213.4736, -231.9852,\n",
      "        -230.6782, -205.5539, -253.3633, -233.1187], device='cuda:0')\n",
      "after exp\n",
      "tensor([0.0000e+00, 0.0000e+00, 0.0000e+00, 0.0000e+00, 0.0000e+00, 0.0000e+00,\n",
      "        0.0000e+00, 0.0000e+00, 0.0000e+00, 0.0000e+00, 0.0000e+00, 0.0000e+00,\n",
      "        0.0000e+00, 2.8026e-45, 0.0000e+00, 0.0000e+00], device='cuda:0')\n",
      "right_side:\n",
      "0.0\n",
      "stat:\n",
      "0.0\n",
      "transfer_loss: 1.0\n"
     ]
    }
   ],
   "source": [
    "mkme_loss = SmoothCFTest(\n",
    "    A, B, scale=1, num_random_features=2, device=device)\n",
    "transfer_loss = mkme_loss.compute_pvalue()\n",
    "print(f'transfer_loss: {transfer_loss}')"
   ]
  },
  {
   "attachments": {},
   "cell_type": "markdown",
   "metadata": {},
   "source": [
    "### pinverse"
   ]
  },
  {
   "cell_type": "code",
   "execution_count": 1023,
   "metadata": {},
   "outputs": [],
   "source": [
    "def mahalanobis_distance(difference, num_random_features):\n",
    "    num_samples, _ = difference.shape\n",
    "    sigma = torch.cov(difference.T)\n",
    "    mu = torch.mean(difference, 0)\n",
    "    if num_random_features == 1:\n",
    "        stat = float(num_samples * torch.pow(mu,2)) / float(sigma)\n",
    "    else:\n",
    "        sigma = torch.pinverse(sigma)\n",
    "        mathmul_function = torch.matmul(sigma, mu.T)\n",
    "        print(f'mathmul_function:\\n{mathmul_function}')\n",
    "        right_side =  torch.matmul(mu, mathmul_function)\n",
    "        print(f'right_side:\\n{right_side}')\n",
    "        stat = num_samples * right_side\n",
    "    return chi2.sf(stat.detach().cpu(), num_random_features)\n",
    "\n",
    "class MeanEmbeddingTest:\n",
    "\n",
    "    def __init__(self, data_x, data_y, scale, number_of_random_frequencies, device):\n",
    "        self.device = device\n",
    "        self.data_x = scale * data_x.to(device)\n",
    "        self.data_y = scale * data_y.to(device)\n",
    "        self.number_of_frequencies = number_of_random_frequencies\n",
    "        self.scale = scale\n",
    "\n",
    "    def get_estimate(self, data, point):\n",
    "        z = data - self.scale * point\n",
    "        z2 = torch.norm(z, p=2, dim=1)**2\n",
    "        return torch.exp(-z2/2.0)\n",
    "\n",
    "    def get_difference(self, point):\n",
    "        return self.get_estimate(self.data_x, point) - self.get_estimate(self.data_y, point)\n",
    "\n",
    "    def vector_of_differences(self, dim):\n",
    "        points = torch.tensor(numpy.random.randn(self.number_of_frequencies, dim)).to(device)\n",
    "        a = [self.get_difference(point) for point in points]\n",
    "        return torch.stack(a).T\n",
    "\n",
    "    def compute_pvalue(self):\n",
    "\n",
    "        _, dimension = self.data_x.size()\n",
    "        obs = self.vector_of_differences(dimension)\n",
    "        return mahalanobis_distance(obs, self.number_of_frequencies)"
   ]
  },
  {
   "cell_type": "code",
   "execution_count": 1024,
   "metadata": {},
   "outputs": [
    {
     "name": "stdout",
     "output_type": "stream",
     "text": [
      "mathmul_function:\n",
      "tensor([-3.2029e+95, -4.4704e+97], device='cuda:0', dtype=torch.float64)\n",
      "right_side:\n",
      "0.13254002980381024\n",
      "transfer_loss: 0.3463448796282109\n"
     ]
    }
   ],
   "source": [
    "mkme_loss = MeanEmbeddingTest(\n",
    "    A, B, scale=1, number_of_random_frequencies=2, device=device)\n",
    "transfer_loss = mkme_loss.compute_pvalue()\n",
    "print(f'transfer_loss: {transfer_loss}')"
   ]
  },
  {
   "cell_type": "code",
   "execution_count": 1025,
   "metadata": {},
   "outputs": [],
   "source": [
    "def smooth(data):\n",
    "    print('data')\n",
    "    print(data)\n",
    "    w = torch.linalg.norm(data, dim=1)\n",
    "    print('after norm')\n",
    "    print(w)\n",
    "    print(f'-torch.pow(w,2): {-torch.pow(w,2)}')\n",
    "    w = torch.exp(-w ** 2 / 2.0)\n",
    "    print('after exp')\n",
    "    print(w)\n",
    "    return w[:, newaxis]\n",
    "\n",
    "\n",
    "def smooth_cf(data, w, random_frequencies):\n",
    "    n, _ = data.shape\n",
    "    _, d = random_frequencies.shape\n",
    "    mat = torch.matmul(data,random_frequencies)\n",
    "    arr = torch.cat((torch.sin(mat) * w, torch.cos(mat) * w), dim = 1)\n",
    "    n1, d1 = arr.shape\n",
    "    assert n1 == n and d1 == 2 * d and w.shape == (n, 1)\n",
    "    return arr\n",
    "\n",
    "\n",
    "def smooth_difference(random_frequencies, X, Y):\n",
    "    x_smooth = smooth(X)\n",
    "    y_smooth = smooth(Y)\n",
    "    characteristic_function_x = smooth_cf(X, x_smooth, random_frequencies)\n",
    "    characteristic_function_y = smooth_cf(Y, y_smooth, random_frequencies)\n",
    "    return characteristic_function_x - characteristic_function_y\n",
    "\n",
    "class SmoothCFTest:\n",
    "\n",
    "    def _gen_random(self, dimension):\n",
    "        return torch.tensor(numpy.random.randn(dimension, self.num_random_features).astype(np.float32)).to(self.device)\n",
    "\n",
    "\n",
    "    def __init__(self, data_x, data_y, scale, num_random_features, device, frequency_generator=None):\n",
    "        self.device = device\n",
    "        self.data_x = scale*data_x.to(self.device)\n",
    "        self.data_y = scale*data_y.to(self.device)\n",
    "        self.num_random_features = num_random_features\n",
    "\n",
    "        _, dimension_x = numpy.shape(self.data_x)\n",
    "        _, dimension_y = numpy.shape(self.data_y)\n",
    "        assert dimension_x == dimension_y\n",
    "        self.random_frequencies = self._gen_random(dimension_x)\n",
    "\n",
    "\n",
    "    def compute_pvalue(self):\n",
    "        difference = smooth_difference(self.random_frequencies, self.data_x, self.data_y)\n",
    "        return mahalanobis_distance(difference, 2 * self.num_random_features)"
   ]
  },
  {
   "cell_type": "code",
   "execution_count": 1026,
   "metadata": {},
   "outputs": [
    {
     "name": "stdout",
     "output_type": "stream",
     "text": [
      "data\n",
      "tensor([[ 0.8408,  0.6097,  2.6534,  ...,  0.6043, -1.8668, -0.1236],\n",
      "        [-2.3901, -0.0141, -0.2644,  ..., -0.7488,  1.0507, -0.8017],\n",
      "        [-0.7533, -0.9772, -0.6795,  ...,  0.6511, -1.3017, -2.2515],\n",
      "        ...,\n",
      "        [ 2.0089,  0.5029, -1.0588,  ..., -0.7731,  0.9187, -0.5550],\n",
      "        [-0.4826, -0.2987,  0.1411,  ...,  0.7256,  1.5195,  2.2034],\n",
      "        [ 0.9428, -1.2763, -0.9038,  ...,  1.2772, -2.3631,  0.6699]],\n",
      "       device='cuda:0')\n",
      "after norm\n",
      "tensor([17.2997, 15.7555, 15.6930, 15.9109, 16.2631, 17.8606, 14.8775, 15.7663,\n",
      "        16.1493, 16.2924, 16.0764, 15.5462, 15.9415, 16.2818, 16.6161, 16.9718],\n",
      "       device='cuda:0')\n",
      "-torch.pow(w,2): tensor([-299.2788, -248.2347, -246.2709, -253.1558, -264.4871, -319.0012,\n",
      "        -221.3405, -248.5769, -260.7983, -265.4413, -258.4496, -241.6849,\n",
      "        -254.1315, -265.0956, -276.0964, -288.0418], device='cuda:0')\n",
      "after exp\n",
      "tensor([0., 0., 0., 0., 0., 0., 0., 0., 0., 0., 0., 0., 0., 0., 0., 0.],\n",
      "       device='cuda:0')\n",
      "data\n",
      "tensor([[ 1.5641,  0.4190, -2.4232,  ..., -1.3903,  0.0599, -0.9379],\n",
      "        [-0.9723,  0.5265, -1.1163,  ..., -0.4942,  0.5062,  0.1536],\n",
      "        [ 0.0041,  1.4940,  0.6590,  ...,  0.5077, -0.4379, -0.4075],\n",
      "        ...,\n",
      "        [-0.6148, -1.1801,  0.4408,  ...,  0.6528, -1.2169, -0.4973],\n",
      "        [-0.7193,  0.6277,  2.5577,  ...,  0.2492,  0.2679, -0.8633],\n",
      "        [-0.0909,  2.8726,  0.0671,  ...,  0.3895,  0.4903, -0.9225]],\n",
      "       device='cuda:0')\n",
      "after norm\n",
      "tensor([16.2389, 16.4281, 16.9143, 15.9440, 15.7738, 16.4115, 16.8478, 15.9500,\n",
      "        15.3058, 15.5909, 14.6107, 15.2311, 15.1881, 14.3371, 15.9174, 15.2682],\n",
      "       device='cuda:0')\n",
      "-torch.pow(w,2): tensor([-263.7011, -269.8836, -286.0943, -254.2097, -248.8143, -269.3366,\n",
      "        -283.8492, -254.4026, -234.2661, -243.0752, -213.4736, -231.9852,\n",
      "        -230.6782, -205.5539, -253.3633, -233.1187], device='cuda:0')\n",
      "after exp\n",
      "tensor([0.0000e+00, 0.0000e+00, 0.0000e+00, 0.0000e+00, 0.0000e+00, 0.0000e+00,\n",
      "        0.0000e+00, 0.0000e+00, 0.0000e+00, 0.0000e+00, 0.0000e+00, 0.0000e+00,\n",
      "        0.0000e+00, 2.8026e-45, 0.0000e+00, 0.0000e+00], device='cuda:0')\n",
      "mathmul_function:\n",
      "tensor([0., 0., 0., 0.], device='cuda:0')\n",
      "right_side:\n",
      "0.0\n",
      "transfer_loss: 1.0\n"
     ]
    }
   ],
   "source": [
    "mkme_loss = SmoothCFTest(\n",
    "    A, B, scale=1, num_random_features=2, device=device)\n",
    "transfer_loss = mkme_loss.compute_pvalue()\n",
    "print(f'transfer_loss: {transfer_loss}')"
   ]
  }
 ],
 "metadata": {
  "kernelspec": {
   "display_name": "Python 3 (ipykernel)",
   "language": "python",
   "name": "python3"
  },
  "language_info": {
   "codemirror_mode": {
    "name": "ipython",
    "version": 3
   },
   "file_extension": ".py",
   "mimetype": "text/x-python",
   "name": "python",
   "nbconvert_exporter": "python",
   "pygments_lexer": "ipython3",
   "version": "3.7.12"
  }
 },
 "nbformat": 4,
 "nbformat_minor": 4
}
