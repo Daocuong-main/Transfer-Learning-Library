{
 "cells": [
  {
   "cell_type": "code",
   "execution_count": 62,
   "metadata": {},
   "outputs": [],
   "source": [
    "import custom_utils\n",
    "import cv2\n",
    "import matplotlib\n",
    "import matplotlib.colors as col\n",
    "import matplotlib.pyplot as plt\n",
    "import numpy\n",
    "import numpy as np\n",
    "import pandas as pd\n",
    "import torch\n",
    "import torch.backends.cudnn as cudnn\n",
    "import torch.nn as nn\n",
    "import torch.nn.functional as F\n",
    "from custom_utils import plot_graph\n",
    "from matplotlib import pyplot as plt\n",
    "from sklearn.manifold import TSNE\n",
    "from sklearn.metrics import ConfusionMatrixDisplay\n",
    "from torch.optim import SGD\n",
    "from torch.optim.lr_scheduler import LambdaLR\n",
    "from torch.utils.data import DataLoader, Dataset\n",
    "from torchsummary import summary"
   ]
  },
  {
   "cell_type": "code",
   "execution_count": 63,
   "metadata": {},
   "outputs": [],
   "source": [
    "from warnings import warn\n",
    "from numpy import mean, transpose, cov, cos, sin, shape, exp, newaxis, concatenate\n",
    "from numpy.linalg import linalg, LinAlgError, solve\n",
    "from scipy.stats import chi2"
   ]
  },
  {
   "cell_type": "code",
   "execution_count": 64,
   "metadata": {},
   "outputs": [],
   "source": [
    "device = torch.device(\"cuda\" if torch.cuda.is_available() else \"cpu\")"
   ]
  },
  {
   "attachments": {},
   "cell_type": "markdown",
   "metadata": {},
   "source": [
    "### Create 2 tensor"
   ]
  },
  {
   "cell_type": "code",
   "execution_count": 65,
   "metadata": {},
   "outputs": [
    {
     "name": "stdout",
     "output_type": "stream",
     "text": [
      "torch.Size([16, 256])\n",
      "torch.Size([16, 256])\n"
     ]
    }
   ],
   "source": [
    "import torch\n",
    "\n",
    "# Create two random tensors of size (16, 256)\n",
    "A = torch.randn(16, 256)\n",
    "B = torch.randn(16, 256)\n",
    "\n",
    "# Print the resulting tensors\n",
    "print(A.size())\n",
    "print(B.size())\n"
   ]
  },
  {
   "cell_type": "code",
   "execution_count": 66,
   "metadata": {},
   "outputs": [],
   "source": [
    "# points = numpy.random.randn(2, 256)\n",
    "# points = torch.randn(2, 256)"
   ]
  },
  {
   "attachments": {},
   "cell_type": "markdown",
   "metadata": {},
   "source": [
    "### Original code"
   ]
  },
  {
   "cell_type": "code",
   "execution_count": 70,
   "metadata": {},
   "outputs": [],
   "source": [
    "def mahalanobis_distance(difference, num_random_features):\n",
    "    num_samples, _ = shape(difference)\n",
    "    sigma = cov(transpose(difference))\n",
    "\n",
    "    try:\n",
    "        linalg.inv(sigma)\n",
    "    except LinAlgError:\n",
    "        warn('covariance matrix is singular. Pvalue returned is 1.1')\n",
    "        raise\n",
    "\n",
    "    mu = mean(difference, 0)\n",
    "\n",
    "    if num_random_features == 1:\n",
    "        stat = float(num_samples * mu ** 2) / float(sigma)\n",
    "    else:\n",
    "        print('Original')\n",
    "        solve_function = solve(sigma, transpose(mu))\n",
    "        print(f'solve_function:\\n{solve_function}')\n",
    "        right_side = mu.dot(solve_function)\n",
    "        print(f'right_side:\\n{right_side} **')\n",
    "        stat = num_samples * right_side\n",
    "        print(f'stat:\\n{stat}')\n",
    "        print('Modified')\n",
    "        right_side = transpose(mu).dot(mu)\n",
    "        print(f'right_side:\\n{right_side}')\n",
    "        stat = num_samples * right_side\n",
    "        print(f'stat:\\n{stat}')\n",
    "\n",
    "    return chi2.sf(stat, num_random_features)"
   ]
  },
  {
   "cell_type": "code",
   "execution_count": 71,
   "metadata": {},
   "outputs": [],
   "source": [
    "class MeanEmbeddingTest:\n",
    "\n",
    "    def __init__(self, data_x, data_y, scale=1, number_of_random_frequencies=5):\n",
    "        self.data_x = scale*data_x\n",
    "        self.data_y = scale*data_y\n",
    "        self.number_of_frequencies = number_of_random_frequencies\n",
    "        self.scale = scale\n",
    "\n",
    "    def get_estimate(self, data, point):\n",
    "        z = data - self.scale * point\n",
    "        z2 = numpy.linalg.norm(z, axis=1)**2\n",
    "        return numpy.exp(-z2/2.0)\n",
    "\n",
    "\n",
    "    def get_difference(self, point):\n",
    "        return self.get_estimate(self.data_x, point) - self.get_estimate(self.data_y, point)\n",
    "\n",
    "\n",
    "    def vector_of_differences(self, dim):\n",
    "        points = numpy.random.randn(self.number_of_frequencies, dim)\n",
    "        a = [self.get_difference(point) for point in points]\n",
    "        return numpy.array(a).T\n",
    "\n",
    "    def compute_pvalue(self):\n",
    "\n",
    "        _, dimension = numpy.shape(self.data_x)\n",
    "        obs = self.vector_of_differences(dimension)\n",
    "\n",
    "        return mahalanobis_distance(obs, self.number_of_frequencies)"
   ]
  },
  {
   "cell_type": "code",
   "execution_count": 74,
   "metadata": {},
   "outputs": [
    {
     "name": "stdout",
     "output_type": "stream",
     "text": [
      "Original\n",
      "solve_function:\n",
      "[-1.35100983e+99 -5.72294528e+87]\n",
      "right_side:\n",
      "0.17409520712915558 **\n",
      "stat:\n",
      "2.7855233140664892\n",
      "Modified\n",
      "right_side:\n",
      "1.4737542740953602e-178\n",
      "stat:\n",
      "2.3580068385525763e-177\n",
      "transfer_loss: 1.0\n"
     ]
    }
   ],
   "source": [
    "mkme_loss = MeanEmbeddingTest(A, B, scale=1, number_of_random_frequencies=2)\n",
    "transfer_loss = mkme_loss.compute_pvalue()\n",
    "print(f'transfer_loss: {transfer_loss}')"
   ]
  },
  {
   "attachments": {},
   "cell_type": "markdown",
   "metadata": {},
   "source": [
    "### custom_eu"
   ]
  },
  {
   "cell_type": "code",
   "execution_count": 46,
   "metadata": {},
   "outputs": [],
   "source": [
    "def mahalanobis_distance(difference, num_random_features):\n",
    "    num_samples, _ = difference.shape\n",
    "    sigma = torch.cov(difference.T)\n",
    "    mu = torch.mean(difference, 0)\n",
    "    if num_random_features == 1:\n",
    "        stat = float(num_samples * torch.pow(mu,2)) / float(sigma)\n",
    "    else:\n",
    "        right_side =  torch.matmul(mu, mu.T)\n",
    "        print(f'right_side:\\n{right_side}')\n",
    "        stat = num_samples * right_side\n",
    "        print(f'stat:\\n{stat}')\n",
    "    return chi2.sf(stat.detach().cpu(), num_random_features)\n",
    "\n",
    "class MeanEmbeddingTest:\n",
    "\n",
    "    def __init__(self, data_x, data_y, scale, number_of_random_frequencies, device):\n",
    "        self.device = device\n",
    "        self.data_x = scale * data_x.to(device)\n",
    "        self.data_y = scale * data_y.to(device)\n",
    "        self.number_of_frequencies = number_of_random_frequencies\n",
    "        self.scale = scale\n",
    "\n",
    "    def get_estimate(self, data, point):\n",
    "        z = data - self.scale * point\n",
    "        z2 = torch.norm(z, p=2, dim=1)**2\n",
    "        return torch.exp(-z2/2.0)\n",
    "\n",
    "    def get_difference(self, point):\n",
    "        return self.get_estimate(self.data_x, point) - self.get_estimate(self.data_y, point)\n",
    "\n",
    "    def vector_of_differences(self, dim):\n",
    "        points = torch.tensor(numpy.random.randn(self.number_of_frequencies, dim)).to(device)\n",
    "        a = [self.get_difference(point) for point in points]\n",
    "        return torch.stack(a).T\n",
    "\n",
    "    def compute_pvalue(self):\n",
    "\n",
    "        _, dimension = self.data_x.size()\n",
    "        obs = self.vector_of_differences(dimension)\n",
    "        return mahalanobis_distance(obs, self.number_of_frequencies)"
   ]
  },
  {
   "cell_type": "code",
   "execution_count": 47,
   "metadata": {},
   "outputs": [
    {
     "name": "stdout",
     "output_type": "stream",
     "text": [
      "right_side:\n",
      "2.0932218697095176e-190\n",
      "transfer_loss: 1.0\n"
     ]
    }
   ],
   "source": [
    "mkme_loss = MeanEmbeddingTest(A, B ,scale=1, number_of_random_frequencies=2, device=device)\n",
    "transfer_loss = mkme_loss.compute_pvalue()\n",
    "print(f'transfer_loss: {transfer_loss}')"
   ]
  },
  {
   "attachments": {},
   "cell_type": "markdown",
   "metadata": {},
   "source": [
    "### pinverse"
   ]
  },
  {
   "cell_type": "code",
   "execution_count": 48,
   "metadata": {},
   "outputs": [],
   "source": [
    "def mahalanobis_distance(difference, num_random_features):\n",
    "    num_samples, _ = difference.shape\n",
    "    sigma = torch.cov(difference.T)\n",
    "    mu = torch.mean(difference, 0)\n",
    "    if num_random_features == 1:\n",
    "        stat = float(num_samples * torch.pow(mu,2)) / float(sigma)\n",
    "    else:\n",
    "        sigma = torch.pinverse(sigma)\n",
    "        mathmul_function = torch.matmul(sigma, mu.T)\n",
    "        print(f'mathmul_function:\\n{mathmul_function}')\n",
    "        right_side =  torch.matmul(mu, mathmul_function)\n",
    "        print(f'right_side:\\n{right_side}')\n",
    "        stat = num_samples * right_side\n",
    "    return chi2.sf(stat.detach().cpu(), num_random_features)\n",
    "\n",
    "class MeanEmbeddingTest:\n",
    "\n",
    "    def __init__(self, data_x, data_y, scale, number_of_random_frequencies, device):\n",
    "        self.device = device\n",
    "        self.data_x = scale * data_x.to(device)\n",
    "        self.data_y = scale * data_y.to(device)\n",
    "        self.number_of_frequencies = number_of_random_frequencies\n",
    "        self.scale = scale\n",
    "\n",
    "    def get_estimate(self, data, point):\n",
    "        z = data - self.scale * point\n",
    "        z2 = torch.norm(z, p=2, dim=1)**2\n",
    "        return torch.exp(-z2/2.0)\n",
    "\n",
    "    def get_difference(self, point):\n",
    "        return self.get_estimate(self.data_x, point) - self.get_estimate(self.data_y, point)\n",
    "\n",
    "    def vector_of_differences(self, dim):\n",
    "        points = torch.tensor(numpy.random.randn(self.number_of_frequencies, dim)).to(device)\n",
    "        a = [self.get_difference(point) for point in points]\n",
    "        return torch.stack(a).T\n",
    "\n",
    "    def compute_pvalue(self):\n",
    "\n",
    "        _, dimension = self.data_x.size()\n",
    "        obs = self.vector_of_differences(dimension)\n",
    "        return mahalanobis_distance(obs, self.number_of_frequencies)"
   ]
  },
  {
   "cell_type": "code",
   "execution_count": 49,
   "metadata": {},
   "outputs": [
    {
     "name": "stdout",
     "output_type": "stream",
     "text": [
      "mathmul_function:\n",
      "tensor([  8.9676e+98, -6.2560e+100], device='cuda:0', dtype=torch.float64)\n",
      "right_side:\n",
      "0.12482258023708817\n",
      "transfer_loss: 0.36840196457349483\n"
     ]
    }
   ],
   "source": [
    "mkme_loss = MeanEmbeddingTest(\n",
    "    A, B, scale=1, number_of_random_frequencies=2, device=device)\n",
    "transfer_loss = mkme_loss.compute_pvalue()\n",
    "print(f'transfer_loss: {transfer_loss}')"
   ]
  },
  {
   "cell_type": "code",
   "execution_count": null,
   "metadata": {},
   "outputs": [],
   "source": []
  }
 ],
 "metadata": {
  "kernelspec": {
   "display_name": "Python 3 (ipykernel)",
   "language": "python",
   "name": "python3"
  },
  "language_info": {
   "codemirror_mode": {
    "name": "ipython",
    "version": 3
   },
   "file_extension": ".py",
   "mimetype": "text/x-python",
   "name": "python",
   "nbconvert_exporter": "python",
   "pygments_lexer": "ipython3",
   "version": "3.7.12"
  }
 },
 "nbformat": 4,
 "nbformat_minor": 4
}
