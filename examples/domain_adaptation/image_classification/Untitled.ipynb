{
 "cells": [
  {
   "cell_type": "code",
   "execution_count": 1,
   "metadata": {},
   "outputs": [],
   "source": [
    "import random\n",
    "import time\n",
    "import warnings\n",
    "import argparse\n",
    "import shutil\n",
    "import os.path as osp\n",
    "\n",
    "import torch\n",
    "import torch.nn as nn\n",
    "import torch.backends.cudnn as cudnn\n",
    "from torch.optim import SGD\n",
    "from torch.optim.lr_scheduler import LambdaLR\n",
    "from torch.utils.data import DataLoader\n",
    "import torch.nn.functional as F\n",
    "import cv2\n",
    "import numpy as np\n",
    "import utils\n",
    "from torch.utils.data import Dataset, DataLoader\n",
    "from tllib.alignment.dan import MultipleKernelMaximumMeanDiscrepancy, ImageClassifier\n",
    "from tllib.modules.kernels import GaussianKernel\n",
    "from tllib.utils.data import ForeverDataIterator\n",
    "from tllib.utils.metric import accuracy\n",
    "from tllib.utils.meter import AverageMeter, ProgressMeter\n",
    "from tllib.utils.logger import CompleteLogger\n",
    "from tllib.utils.analysis import collect_feature, tsne, a_distance\n",
    "import pandas as pd\n",
    "import matplotlib.pyplot as plt\n"
   ]
  },
  {
   "cell_type": "code",
   "execution_count": 4,
   "metadata": {},
   "outputs": [
    {
     "name": "stdout",
     "output_type": "stream",
     "text": [
      "Actual Tensor matrix: \n",
      "tensor([[2.0000, 4.0000, 5.0000, 3.2000],\n",
      "        [3.4000, 5.6000, 7.8000, 9.0000],\n",
      "        [2.1000, 3.2000, 4.3000, 5.6000],\n",
      "        [5.4000, 3.2000, 2.3000, 7.8000]])\n",
      "Pseudo Inverse matrix: \n",
      "tensor([[-0.3627,  3.0709, -5.4110,  0.4902],\n",
      "        [ 1.4628, -5.8971,  9.2172, -0.4133],\n",
      "        [-0.7418,  4.0696, -6.3933,  0.1987],\n",
      "        [-0.1303, -0.9067,  1.8498, -0.1002]])\n"
     ]
    }
   ],
   "source": [
    "#import torch module\n",
    "import torch\n",
    "#create  tensor matrix\n",
    "data1 = torch.tensor([[2.0,4.0,5.0,3.2], [3.4,5.6,7.8,9.0], [2.1,3.2,4.3,5.6], [5.4,3.2,2.3,7.8]])  \n",
    "\n",
    "#display\n",
    "print(\"Actual Tensor matrix: \")\n",
    "print(data1)\n",
    "\n",
    "print(\"Pseudo Inverse matrix: \")\n",
    "#return Pseudo inverse of the above matrix\n",
    "print(torch.pinverse(data1))"
   ]
  },
  {
   "cell_type": "code",
   "execution_count": 5,
   "metadata": {},
   "outputs": [
    {
     "name": "stdout",
     "output_type": "stream",
     "text": [
      "Actual Tensor matrix: \n",
      "tensor([[2.0000, 4.0000, 5.0000, 3.2000],\n",
      "        [3.4000, 5.6000, 7.8000, 9.0000],\n",
      "        [2.1000, 3.2000, 4.3000, 5.6000],\n",
      "        [5.4000, 3.2000, 2.3000, 7.8000]])\n",
      "Inverse matrix: \n",
      "tensor([[-0.3627,  3.0709, -5.4110,  0.4902],\n",
      "        [ 1.4628, -5.8971,  9.2172, -0.4132],\n",
      "        [-0.7418,  4.0696, -6.3933,  0.1987],\n",
      "        [-0.1303, -0.9067,  1.8498, -0.1002]])\n"
     ]
    }
   ],
   "source": [
    "#import torch module\n",
    "import torch\n",
    " \n",
    " \n",
    "#create  tensor matrix\n",
    "data1 = torch.tensor([[2.0,4.0,5.0,3.2],[3.4,5.6,7.8,9.0], [2.1,3.2,4.3,5.6], [5.4,3.2,2.3,7.8]])  \n",
    "\n",
    "#display\n",
    "print(\"Actual Tensor matrix: \")\n",
    "print(data1)\n",
    "\n",
    "print(\"Inverse matrix: \")\n",
    "#return inverse of the above matrix\n",
    "print(torch.inverse(data1))"
   ]
  },
  {
   "cell_type": "code",
   "execution_count": 6,
   "metadata": {},
   "outputs": [
    {
     "data": {
      "text/plain": [
       "tensor([[2.0000, 4.0000, 5.0000, 3.2000],\n",
       "        [3.4000, 5.6000, 7.8000, 9.0000],\n",
       "        [2.1000, 3.2000, 4.3000, 5.6000],\n",
       "        [5.4000, 3.2000, 2.3000, 7.8000]])"
      ]
     },
     "execution_count": 6,
     "metadata": {},
     "output_type": "execute_result"
    }
   ],
   "source": [
    "data1"
   ]
  },
  {
   "cell_type": "code",
   "execution_count": 2,
   "metadata": {},
   "outputs": [],
   "source": [
    "df = pd.read_feather('/home/bkcs/HDD/FL/Data_Processing/Data/Concatenated/Concatenated_small/Train/Concatenated_train_256.feather')"
   ]
  },
  {
   "cell_type": "code",
   "execution_count": 3,
   "metadata": {},
   "outputs": [
    {
     "ename": "KeyError",
     "evalue": "0",
     "output_type": "error",
     "traceback": [
      "\u001b[0;31m---------------------------------------------------------------------------\u001b[0m",
      "\u001b[0;31mKeyError\u001b[0m                                  Traceback (most recent call last)",
      "\u001b[0;32m~/miniconda3/lib/python3.7/site-packages/pandas/core/indexes/base.py\u001b[0m in \u001b[0;36mget_loc\u001b[0;34m(self, key, method, tolerance)\u001b[0m\n\u001b[1;32m   3360\u001b[0m             \u001b[0;32mtry\u001b[0m\u001b[0;34m:\u001b[0m\u001b[0;34m\u001b[0m\u001b[0;34m\u001b[0m\u001b[0m\n\u001b[0;32m-> 3361\u001b[0;31m                 \u001b[0;32mreturn\u001b[0m \u001b[0mself\u001b[0m\u001b[0;34m.\u001b[0m\u001b[0m_engine\u001b[0m\u001b[0;34m.\u001b[0m\u001b[0mget_loc\u001b[0m\u001b[0;34m(\u001b[0m\u001b[0mcasted_key\u001b[0m\u001b[0;34m)\u001b[0m\u001b[0;34m\u001b[0m\u001b[0;34m\u001b[0m\u001b[0m\n\u001b[0m\u001b[1;32m   3362\u001b[0m             \u001b[0;32mexcept\u001b[0m \u001b[0mKeyError\u001b[0m \u001b[0;32mas\u001b[0m \u001b[0merr\u001b[0m\u001b[0;34m:\u001b[0m\u001b[0;34m\u001b[0m\u001b[0;34m\u001b[0m\u001b[0m\n",
      "\u001b[0;32m~/miniconda3/lib/python3.7/site-packages/pandas/_libs/index.pyx\u001b[0m in \u001b[0;36mpandas._libs.index.IndexEngine.get_loc\u001b[0;34m()\u001b[0m\n",
      "\u001b[0;32m~/miniconda3/lib/python3.7/site-packages/pandas/_libs/index.pyx\u001b[0m in \u001b[0;36mpandas._libs.index.IndexEngine.get_loc\u001b[0;34m()\u001b[0m\n",
      "\u001b[0;32mpandas/_libs/hashtable_class_helper.pxi\u001b[0m in \u001b[0;36mpandas._libs.hashtable.PyObjectHashTable.get_item\u001b[0;34m()\u001b[0m\n",
      "\u001b[0;32mpandas/_libs/hashtable_class_helper.pxi\u001b[0m in \u001b[0;36mpandas._libs.hashtable.PyObjectHashTable.get_item\u001b[0;34m()\u001b[0m\n",
      "\u001b[0;31mKeyError\u001b[0m: 0",
      "\nThe above exception was the direct cause of the following exception:\n",
      "\u001b[0;31mKeyError\u001b[0m                                  Traceback (most recent call last)",
      "\u001b[0;32m/tmp/ipykernel_190030/2680116315.py\u001b[0m in \u001b[0;36m<module>\u001b[0;34m\u001b[0m\n\u001b[0;32m----> 1\u001b[0;31m \u001b[0mdf\u001b[0m\u001b[0;34m[\u001b[0m\u001b[0;36m0\u001b[0m\u001b[0;34m]\u001b[0m\u001b[0;34m\u001b[0m\u001b[0;34m\u001b[0m\u001b[0m\n\u001b[0m",
      "\u001b[0;32m~/miniconda3/lib/python3.7/site-packages/pandas/core/frame.py\u001b[0m in \u001b[0;36m__getitem__\u001b[0;34m(self, key)\u001b[0m\n\u001b[1;32m   3456\u001b[0m             \u001b[0;32mif\u001b[0m \u001b[0mself\u001b[0m\u001b[0;34m.\u001b[0m\u001b[0mcolumns\u001b[0m\u001b[0;34m.\u001b[0m\u001b[0mnlevels\u001b[0m \u001b[0;34m>\u001b[0m \u001b[0;36m1\u001b[0m\u001b[0;34m:\u001b[0m\u001b[0;34m\u001b[0m\u001b[0;34m\u001b[0m\u001b[0m\n\u001b[1;32m   3457\u001b[0m                 \u001b[0;32mreturn\u001b[0m \u001b[0mself\u001b[0m\u001b[0;34m.\u001b[0m\u001b[0m_getitem_multilevel\u001b[0m\u001b[0;34m(\u001b[0m\u001b[0mkey\u001b[0m\u001b[0;34m)\u001b[0m\u001b[0;34m\u001b[0m\u001b[0;34m\u001b[0m\u001b[0m\n\u001b[0;32m-> 3458\u001b[0;31m             \u001b[0mindexer\u001b[0m \u001b[0;34m=\u001b[0m \u001b[0mself\u001b[0m\u001b[0;34m.\u001b[0m\u001b[0mcolumns\u001b[0m\u001b[0;34m.\u001b[0m\u001b[0mget_loc\u001b[0m\u001b[0;34m(\u001b[0m\u001b[0mkey\u001b[0m\u001b[0;34m)\u001b[0m\u001b[0;34m\u001b[0m\u001b[0;34m\u001b[0m\u001b[0m\n\u001b[0m\u001b[1;32m   3459\u001b[0m             \u001b[0;32mif\u001b[0m \u001b[0mis_integer\u001b[0m\u001b[0;34m(\u001b[0m\u001b[0mindexer\u001b[0m\u001b[0;34m)\u001b[0m\u001b[0;34m:\u001b[0m\u001b[0;34m\u001b[0m\u001b[0;34m\u001b[0m\u001b[0m\n\u001b[1;32m   3460\u001b[0m                 \u001b[0mindexer\u001b[0m \u001b[0;34m=\u001b[0m \u001b[0;34m[\u001b[0m\u001b[0mindexer\u001b[0m\u001b[0;34m]\u001b[0m\u001b[0;34m\u001b[0m\u001b[0;34m\u001b[0m\u001b[0m\n",
      "\u001b[0;32m~/miniconda3/lib/python3.7/site-packages/pandas/core/indexes/base.py\u001b[0m in \u001b[0;36mget_loc\u001b[0;34m(self, key, method, tolerance)\u001b[0m\n\u001b[1;32m   3361\u001b[0m                 \u001b[0;32mreturn\u001b[0m \u001b[0mself\u001b[0m\u001b[0;34m.\u001b[0m\u001b[0m_engine\u001b[0m\u001b[0;34m.\u001b[0m\u001b[0mget_loc\u001b[0m\u001b[0;34m(\u001b[0m\u001b[0mcasted_key\u001b[0m\u001b[0;34m)\u001b[0m\u001b[0;34m\u001b[0m\u001b[0;34m\u001b[0m\u001b[0m\n\u001b[1;32m   3362\u001b[0m             \u001b[0;32mexcept\u001b[0m \u001b[0mKeyError\u001b[0m \u001b[0;32mas\u001b[0m \u001b[0merr\u001b[0m\u001b[0;34m:\u001b[0m\u001b[0;34m\u001b[0m\u001b[0;34m\u001b[0m\u001b[0m\n\u001b[0;32m-> 3363\u001b[0;31m                 \u001b[0;32mraise\u001b[0m \u001b[0mKeyError\u001b[0m\u001b[0;34m(\u001b[0m\u001b[0mkey\u001b[0m\u001b[0;34m)\u001b[0m \u001b[0;32mfrom\u001b[0m \u001b[0merr\u001b[0m\u001b[0;34m\u001b[0m\u001b[0;34m\u001b[0m\u001b[0m\n\u001b[0m\u001b[1;32m   3364\u001b[0m \u001b[0;34m\u001b[0m\u001b[0m\n\u001b[1;32m   3365\u001b[0m         \u001b[0;32mif\u001b[0m \u001b[0mis_scalar\u001b[0m\u001b[0;34m(\u001b[0m\u001b[0mkey\u001b[0m\u001b[0;34m)\u001b[0m \u001b[0;32mand\u001b[0m \u001b[0misna\u001b[0m\u001b[0;34m(\u001b[0m\u001b[0mkey\u001b[0m\u001b[0;34m)\u001b[0m \u001b[0;32mand\u001b[0m \u001b[0;32mnot\u001b[0m \u001b[0mself\u001b[0m\u001b[0;34m.\u001b[0m\u001b[0mhasnans\u001b[0m\u001b[0;34m:\u001b[0m\u001b[0;34m\u001b[0m\u001b[0;34m\u001b[0m\u001b[0m\n",
      "\u001b[0;31mKeyError\u001b[0m: 0"
     ]
    }
   ],
   "source": []
  },
  {
   "cell_type": "code",
   "execution_count": null,
   "metadata": {},
   "outputs": [],
   "source": [
    "def split_data(df, frac=0.2):\n",
    "    seletected = df['flow_id'].drop_duplicates().sample(frac=frac)\n",
    "\n",
    "    val = df[df['flow_id'].isin(seletected)]\n",
    "    train = df[~df['flow_id'].isin(seletected)]\n",
    "    return train, val\n"
   ]
  },
  {
   "cell_type": "code",
   "execution_count": null,
   "metadata": {},
   "outputs": [],
   "source": [
    "def source_target_split(df, frac=0.5):\n",
    "    df_label_3 = df[df.Label == 2]\n",
    "    seletected_label_3 = df_label_3['flow_id'].drop_duplicates().sample(\n",
    "        frac=0.99)\n",
    "    seletected = df['flow_id'].drop_duplicates().sample(frac=frac)\n",
    "\n",
    "    source_select = seletected[~seletected.isin(seletected_label_3)]\n",
    "\n",
    "    source = df[df['flow_id'].isin(source_select)]\n",
    "    target = df[~df['flow_id'].isin(seletected)]\n",
    "    return source, target\n"
   ]
  },
  {
   "cell_type": "code",
   "execution_count": null,
   "metadata": {},
   "outputs": [],
   "source": [
    "def resize_image(image, target_size=(224, 224)):\n",
    "    return cv2.resize(image, target_size, interpolation=cv2.INTER_LINEAR)\n"
   ]
  },
  {
   "cell_type": "code",
   "execution_count": null,
   "metadata": {},
   "outputs": [],
   "source": [
    "def most_frequent(List):\n",
    "    return max(set(List), key=List.count)\n"
   ]
  },
  {
   "cell_type": "code",
   "execution_count": null,
   "metadata": {},
   "outputs": [],
   "source": [
    "class MyDataset(Dataset):\n",
    "    def __init__(self, data, labels):\n",
    "        self.data = data\n",
    "        self.labels = labels\n",
    "\n",
    "    def __len__(self):\n",
    "        return len(self.data)\n",
    "\n",
    "    def __getitem__(self, idx):\n",
    "        return self.data[idx], self.labels[idx]\n"
   ]
  },
  {
   "cell_type": "code",
   "execution_count": null,
   "metadata": {},
   "outputs": [],
   "source": [
    "def data_processing(raw_data):\n",
    "    # Get flow label\n",
    "    result = raw_data.groupby('flow_id')['Label'].apply(list).to_dict()\n",
    "    flow_label = []\n",
    "    for flow in result:\n",
    "        flow_label.append(most_frequent(result[flow]))\n",
    "    flow_label = np.array(flow_label)\n",
    "    # Reshape payloads\n",
    "    true_data = raw_data.drop('flow_id', axis=1)\n",
    "    datas = true_data.drop('Label', axis=1).to_numpy()/255\n",
    "    datas = datas.reshape(-1, 20, 256).astype('float32')\n",
    "    # Resize each image in the dataset\n",
    "    datas = np.array([resize_image(img) for img in datas])\n",
    "    rgb_datas = np.repeat(datas[:, :, np.newaxis,], 3, axis=2)\n",
    "    print(\"before \" + str(rgb_datas.shape))\n",
    "    rgb_datas = np.moveaxis(rgb_datas, 2, 1)\n",
    "    print(\"after \" + str(rgb_datas.shape))\n",
    "    final_dataset = MyDataset(rgb_datas, flow_label)\n",
    "    return final_dataset\n"
   ]
  },
  {
   "cell_type": "code",
   "execution_count": null,
   "metadata": {},
   "outputs": [],
   "source": [
    "Train_data = pd.read_feather(\n",
    "    '/home/bkcs/HDD/FL/Data_Processing/Capture_small/Train/Capture_data_20_256.feather')\n",
    "Test_data = pd.read_feather(\n",
    "    '/home/bkcs/HDD/FL/Data_Processing/Capture_small/Test/Capture_test_20_256.feather')\n"
   ]
  },
  {
   "cell_type": "code",
   "execution_count": null,
   "metadata": {},
   "outputs": [],
   "source": [
    "print(Train_data.shape[0]/20)\n",
    "print(Test_data.shape[0]/20)\n"
   ]
  },
  {
   "cell_type": "code",
   "execution_count": null,
   "metadata": {},
   "outputs": [],
   "source": [
    "Train_data.head(10)\n"
   ]
  },
  {
   "cell_type": "code",
   "execution_count": null,
   "metadata": {},
   "outputs": [],
   "source": [
    "Test_data.head()\n"
   ]
  },
  {
   "cell_type": "code",
   "execution_count": null,
   "metadata": {},
   "outputs": [],
   "source": [
    "label_mapping = {1: 0, 2: 0, 3: 0, 4: 1, 5: 1}\n",
    "\n",
    "source_labels = [1, 3, 5]\n",
    "target_labels = [2, 4]\n"
   ]
  },
  {
   "cell_type": "code",
   "execution_count": null,
   "metadata": {},
   "outputs": [],
   "source": [
    "\n",
    "train_source = Train_data.loc[Train_data['Label'].isin(source_labels)]\n",
    "train_target = Train_data.loc[Train_data['Label'].isin(target_labels)]\n"
   ]
  },
  {
   "cell_type": "code",
   "execution_count": null,
   "metadata": {},
   "outputs": [],
   "source": [
    "train_source.head(10)\n"
   ]
  },
  {
   "cell_type": "code",
   "execution_count": null,
   "metadata": {},
   "outputs": [],
   "source": [
    "def remapping(df,map):\n",
    "    df_copy = df.copy()\n",
    "    df_copy['Label'] = df_copy['Label'].replace(map)\n",
    "    return df_copy"
   ]
  },
  {
   "cell_type": "code",
   "execution_count": null,
   "metadata": {},
   "outputs": [],
   "source": [
    "train_source = remapping(train_source,label_mapping)\n"
   ]
  },
  {
   "cell_type": "code",
   "execution_count": null,
   "metadata": {},
   "outputs": [],
   "source": [
    "train_target_copy = train_target.copy()\n",
    "train_target_copy['Label'] = train_target_copy['Label'].replace(label_mapping)\n",
    "train_target = train_target_copy\n",
    "del train_target_copy"
   ]
  },
  {
   "cell_type": "code",
   "execution_count": null,
   "metadata": {},
   "outputs": [],
   "source": [
    "train_source.head(10)\n"
   ]
  },
  {
   "cell_type": "code",
   "execution_count": null,
   "metadata": {},
   "outputs": [],
   "source": [
    "\n",
    "val_raw = Test_data.loc[Test_data['Label'].isin(source_labels)]\n",
    "test_raw = Test_data.loc[Test_data['Label'].isin(target_labels)]\n"
   ]
  },
  {
   "cell_type": "code",
   "execution_count": null,
   "metadata": {},
   "outputs": [],
   "source": [
    "val_raw.head()"
   ]
  },
  {
   "cell_type": "code",
   "execution_count": null,
   "metadata": {},
   "outputs": [],
   "source": [
    "val_raw['Label'] = val_raw.Label.replace(label_mapping)\n",
    "test_raw['Label'] = test_raw.Label.replace(label_mapping)\n"
   ]
  },
  {
   "cell_type": "code",
   "execution_count": null,
   "metadata": {},
   "outputs": [],
   "source": []
  },
  {
   "cell_type": "code",
   "execution_count": null,
   "metadata": {},
   "outputs": [],
   "source": []
  }
 ],
 "metadata": {
  "kernelspec": {
   "display_name": "Python 3 (ipykernel)",
   "language": "python",
   "name": "python3"
  },
  "language_info": {
   "codemirror_mode": {
    "name": "ipython",
    "version": 3
   },
   "file_extension": ".py",
   "mimetype": "text/x-python",
   "name": "python",
   "nbconvert_exporter": "python",
   "pygments_lexer": "ipython3",
   "version": "3.7.12"
  }
 },
 "nbformat": 4,
 "nbformat_minor": 4
}
