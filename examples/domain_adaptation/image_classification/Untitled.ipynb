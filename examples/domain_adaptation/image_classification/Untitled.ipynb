{
 "cells": [
  {
   "attachments": {},
   "cell_type": "markdown",
   "metadata": {},
   "source": [
    "# Original"
   ]
  },
  {
   "cell_type": "code",
   "execution_count": null,
   "metadata": {},
   "outputs": [],
   "source": [
    "def mahalanobis_distance(difference, num_random_features):\n",
    "    num_samples, _ = shape(difference)\n",
    "    sigma = cov(transpose(difference))\n",
    "\n",
    "    try:\n",
    "        linalg.inv(sigma)\n",
    "    except LinAlgError:\n",
    "        warn('covariance matrix is singular. Pvalue returned is 1.1')\n",
    "        raise\n",
    "\n",
    "    mu = mean(difference, 0)\n",
    "\n",
    "    if num_random_features == 1:\n",
    "        stat = float(num_samples * mu ** 2) / float(sigma)\n",
    "    else:\n",
    "        stat = num_samples * mu.dot(solve(sigma, transpose(mu)))\n",
    "\n",
    "    return chi2.sf(stat, num_random_features)"
   ]
  },
  {
   "cell_type": "code",
   "execution_count": 1,
   "metadata": {},
   "outputs": [],
   "source": [
    "\n",
    "class MeanEmbeddingTest:\n",
    "\n",
    "    def __init__(self, data_x, data_y, scale=1, number_of_random_frequencies=5):\n",
    "        self.data_x = scale*data_x\n",
    "        self.data_y = scale*data_y\n",
    "        self.number_of_frequencies = number_of_random_frequencies\n",
    "        self.scale = scale\n",
    "\n",
    "    def get_estimate(self, data, point):\n",
    "        z = data - self.scale * point\n",
    "        z2 = numpy.linalg.norm(z, axis=1)**2\n",
    "        return numpy.exp(-z2/2.0)\n",
    "\n",
    "\n",
    "    def get_difference(self, point):\n",
    "        return self.get_estimate(self.data_x, point) - self.get_estimate(self.data_y, point)\n",
    "\n",
    "\n",
    "    def vector_of_differences(self, dim):\n",
    "        points = numpy.random.randn(self.number_of_frequencies, dim)\n",
    "        a = [self.get_difference(point) for point in points]\n",
    "        return numpy.array(a).T\n",
    "\n",
    "    def compute_pvalue(self):\n",
    "\n",
    "        _, dimension = numpy.shape(self.data_x)\n",
    "        obs = self.vector_of_differences(dimension)\n",
    "\n",
    "        return mahalanobis_distance(obs, self.number_of_frequencies)"
   ]
  },
  {
   "cell_type": "code",
   "execution_count": null,
   "metadata": {},
   "outputs": [],
   "source": []
  }
 ],
 "metadata": {
  "kernelspec": {
   "display_name": "Python 3 (ipykernel)",
   "language": "python",
   "name": "python3"
  },
  "language_info": {
   "codemirror_mode": {
    "name": "ipython",
    "version": 3
   },
   "file_extension": ".py",
   "mimetype": "text/x-python",
   "name": "python",
   "nbconvert_exporter": "python",
   "pygments_lexer": "ipython3",
   "version": "3.7.12"
  }
 },
 "nbformat": 4,
 "nbformat_minor": 4
}
